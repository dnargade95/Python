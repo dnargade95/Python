{
 "cells": [
  {
   "cell_type": "code",
   "execution_count": null,
   "id": "c22599f3-10e4-4fbd-9cc7-79db9bc5b274",
   "metadata": {},
   "outputs": [],
   "source": [
    "#----------------data structures---------------------"
   ]
  },
  {
   "cell_type": "code",
   "execution_count": null,
   "id": "36419a02-4939-422a-8f22-758c51ef0498",
   "metadata": {},
   "outputs": [],
   "source": [
    " # difference between datatypes and data structure\n",
    " # datatypes contain only one value where datastructures is collection of multiple datatypes \n",
    "# datasructure allow multiple values"
   ]
  },
  {
   "cell_type": "code",
   "execution_count": null,
   "id": "2640bf49-f00c-478f-8204-a6b9f6aa8a02",
   "metadata": {},
   "outputs": [],
   "source": [
    "# --------------- datastructure types ----------------\n",
    "# LIST\n",
    "# Tuple\n",
    "# SET\n",
    "# Frozen\n",
    "# Dictionary \n",
    "# Range"
   ]
  },
  {
   "cell_type": "code",
   "execution_count": null,
   "id": "60298ca1-f94b-44de-aebd-dd7697fde7d3",
   "metadata": {},
   "outputs": [],
   "source": [
    "#----------------------------List ---------------------------------"
   ]
  },
  {
   "cell_type": "code",
   "execution_count": 2,
   "id": "201c4747-2c65-4c2c-b409-aa47912128b9",
   "metadata": {},
   "outputs": [],
   "source": [
    "# represents an ordered, mutable collection of items.\n",
    "#  denote with []"
   ]
  },
  {
   "cell_type": "code",
   "execution_count": 4,
   "id": "b0feaa76-8a80-4a8a-8a7b-dde6dc64a708",
   "metadata": {},
   "outputs": [
    {
     "data": {
      "text/plain": [
       "list"
      ]
     },
     "execution_count": 4,
     "metadata": {},
     "output_type": "execute_result"
    }
   ],
   "source": [
    "List_A = [10,20,30,40]\n",
    "type(List_A)"
   ]
  },
  {
   "cell_type": "code",
   "execution_count": 6,
   "id": "bad225e2-8cf4-4fbd-bca3-7dc1c9d8db57",
   "metadata": {},
   "outputs": [
    {
     "data": {
      "text/plain": [
       "[10, 20, 30, 10, 30]"
      ]
     },
     "execution_count": 6,
     "metadata": {},
     "output_type": "execute_result"
    }
   ],
   "source": [
    "# duplicates allowed in list \n",
    "List_B = [10,20,30,10,30]\n",
    "List_B"
   ]
  },
  {
   "cell_type": "code",
   "execution_count": 22,
   "id": "a277ee91-7109-4e33-aae6-602089523d26",
   "metadata": {},
   "outputs": [
    {
     "data": {
      "text/plain": [
       "[10, 20, 'dnyaneshwar']"
      ]
     },
     "execution_count": 22,
     "metadata": {},
     "output_type": "execute_result"
    }
   ],
   "source": [
    "# multiple datatype allowed in list \n",
    "list_c = [10,20,\"dnyaneshwar\"]\n",
    "list_c"
   ]
  },
  {
   "cell_type": "code",
   "execution_count": 24,
   "id": "d5d27419-2f35-43d6-b989-9b041ba6059e",
   "metadata": {},
   "outputs": [],
   "source": [
    "# we can remove values from list \n",
    "list_c.remove(\"dnyaneshwar\")"
   ]
  },
  {
   "cell_type": "code",
   "execution_count": 26,
   "id": "9d90f63c-bf03-4189-9983-b046262b1a77",
   "metadata": {},
   "outputs": [
    {
     "data": {
      "text/plain": [
       "[10, 20]"
      ]
     },
     "execution_count": 26,
     "metadata": {},
     "output_type": "execute_result"
    }
   ],
   "source": [
    "list_c"
   ]
  },
  {
   "cell_type": "code",
   "execution_count": 28,
   "id": "7edc24b9-3bb4-4d70-a548-0024184e7625",
   "metadata": {},
   "outputs": [],
   "source": [
    "# indexing and slicing allowed in List"
   ]
  },
  {
   "cell_type": "code",
   "execution_count": null,
   "id": "95dc3a88-eb54-4e05-9311-06928e384b08",
   "metadata": {},
   "outputs": [],
   "source": [
    "#------------------Python Indexing ------------------"
   ]
  },
  {
   "cell_type": "code",
   "execution_count": 42,
   "id": "2f433fc5-da56-41e1-9b56-ad117bb55453",
   "metadata": {
    "scrolled": true
   },
   "outputs": [],
   "source": [
    "# in python forward indexing start with o and backwar with -1\n",
    "# forward    0  1  2  3  4  5  6\n",
    "#   values = 10,20,30,40,50,60,70  \n",
    "# Backward   -7 -6 -5 -4 -3  -2  -1"
   ]
  },
  {
   "cell_type": "code",
   "execution_count": 44,
   "id": "274c70ca-a74e-4f87-877e-eb197edc3dc0",
   "metadata": {},
   "outputs": [],
   "source": [
    " values = 10,20,30,40,50,60,70  "
   ]
  },
  {
   "cell_type": "code",
   "execution_count": 46,
   "id": "48c5312f-9be6-484e-983f-396b3b3c1218",
   "metadata": {},
   "outputs": [
    {
     "data": {
      "text/plain": [
       "20"
      ]
     },
     "execution_count": 46,
     "metadata": {},
     "output_type": "execute_result"
    }
   ],
   "source": [
    "values[1]"
   ]
  },
  {
   "cell_type": "code",
   "execution_count": 48,
   "id": "ef1c406f-090c-4f6e-a989-5cf12a6bf8ef",
   "metadata": {},
   "outputs": [
    {
     "data": {
      "text/plain": [
       "10"
      ]
     },
     "execution_count": 48,
     "metadata": {},
     "output_type": "execute_result"
    }
   ],
   "source": [
    "values[0]"
   ]
  },
  {
   "cell_type": "code",
   "execution_count": 50,
   "id": "c918700e-9a59-4580-94f0-aca860331714",
   "metadata": {},
   "outputs": [
    {
     "data": {
      "text/plain": [
       "70"
      ]
     },
     "execution_count": 50,
     "metadata": {},
     "output_type": "execute_result"
    }
   ],
   "source": [
    "values[-1]"
   ]
  },
  {
   "cell_type": "code",
   "execution_count": 52,
   "id": "fd6cf626-76a1-496c-9052-b9ee5f3836e8",
   "metadata": {},
   "outputs": [
    {
     "data": {
      "text/plain": [
       "40"
      ]
     },
     "execution_count": 52,
     "metadata": {},
     "output_type": "execute_result"
    }
   ],
   "source": [
    "values[-4]"
   ]
  },
  {
   "cell_type": "code",
   "execution_count": 58,
   "id": "60b4eb40-18a0-47b6-93b4-5f0006fe6e52",
   "metadata": {},
   "outputs": [],
   "source": [
    "#-------------Slicing -------------------"
   ]
  },
  {
   "cell_type": "code",
   "execution_count": 60,
   "id": "e1df704f-48b4-4e8a-9e94-4300de6774ff",
   "metadata": {},
   "outputs": [],
   "source": [
    "# Slicing in Python allows you to get a subset of elements from a list\n",
    "# list[start:stop:step] \n",
    "#  start: The index where the slice begins (inclusive).\n",
    "#  stop: The index where the slice ends (exclusive).\n",
    "#  step: The step size (optional), which defines how many items to skip."
   ]
  },
  {
   "cell_type": "code",
   "execution_count": 62,
   "id": "9b4342d7-9c7f-4395-9e78-793b78ccc75f",
   "metadata": {},
   "outputs": [],
   "source": [
    "# defoult value for start is start of listand stop is end f list"
   ]
  },
  {
   "cell_type": "code",
   "execution_count": 64,
   "id": "47c99fd0-01d0-4f95-811e-f117a204b601",
   "metadata": {},
   "outputs": [
    {
     "data": {
      "text/plain": [
       "[10, 20, 30, 40, 50, 60, 70, 80, 90]"
      ]
     },
     "execution_count": 64,
     "metadata": {},
     "output_type": "execute_result"
    }
   ],
   "source": [
    "slice = [10,20,30,40,50,60,70,80,90]\n",
    "slice"
   ]
  },
  {
   "cell_type": "code",
   "execution_count": 76,
   "id": "50f80d2c-b90b-4f16-8e61-a6349a097c59",
   "metadata": {},
   "outputs": [
    {
     "data": {
      "text/plain": [
       "[10, 20, 30, 40, 50, 60, 70, 80, 90]"
      ]
     },
     "execution_count": 76,
     "metadata": {},
     "output_type": "execute_result"
    }
   ],
   "source": [
    "slice[:]   #give intire list"
   ]
  },
  {
   "cell_type": "code",
   "execution_count": 72,
   "id": "322f8024-caaf-46fd-95f4-24b327e92797",
   "metadata": {},
   "outputs": [
    {
     "data": {
      "text/plain": [
       "[10, 20, 30]"
      ]
     },
     "execution_count": 72,
     "metadata": {},
     "output_type": "execute_result"
    }
   ],
   "source": [
    "slice[:3] # ----index value of 3 is 40 but it gives 30 becouse stop alwways n-1 if you put 3 its give index 2 if 4 -- 3 like that"
   ]
  },
  {
   "cell_type": "code",
   "execution_count": 74,
   "id": "2a210f04-f0e9-4c39-95b2-896c6628cfb4",
   "metadata": {},
   "outputs": [
    {
     "data": {
      "text/plain": [
       "[40, 50, 60, 70, 80, 90]"
      ]
     },
     "execution_count": 74,
     "metadata": {},
     "output_type": "execute_result"
    }
   ],
   "source": [
    "slice[3:] # start from index 3 and cover all list till end"
   ]
  },
  {
   "cell_type": "code",
   "execution_count": 84,
   "id": "85b3bbef-673f-48c7-b990-40233871c42c",
   "metadata": {},
   "outputs": [
    {
     "data": {
      "text/plain": [
       "[90]"
      ]
     },
     "execution_count": 84,
     "metadata": {},
     "output_type": "execute_result"
    }
   ],
   "source": [
    "slice[-1:]  # if you use backward indexing but it will not impact result result not reverse"
   ]
  },
  {
   "cell_type": "code",
   "execution_count": 80,
   "id": "c8cd6468-64c7-441a-9a0a-e7732c3a68f3",
   "metadata": {},
   "outputs": [
    {
     "data": {
      "text/plain": [
       "[10, 20, 30, 40, 50, 60, 70, 80]"
      ]
     },
     "execution_count": 80,
     "metadata": {},
     "output_type": "execute_result"
    }
   ],
   "source": [
    "slice[:-1]"
   ]
  },
  {
   "cell_type": "code",
   "execution_count": 86,
   "id": "7dadead5-ab58-478c-bb69-345d7e61e557",
   "metadata": {},
   "outputs": [
    {
     "data": {
      "text/plain": [
       "[10, 20, 30, 40, 50, 60, 70, 80, 90]"
      ]
     },
     "execution_count": 86,
     "metadata": {},
     "output_type": "execute_result"
    }
   ],
   "source": [
    "slice[0:]"
   ]
  },
  {
   "cell_type": "code",
   "execution_count": 88,
   "id": "93994a1e-0448-4e8d-8ed2-f73f0e3af2fb",
   "metadata": {},
   "outputs": [
    {
     "data": {
      "text/plain": [
       "[30, 40, 50, 60]"
      ]
     },
     "execution_count": 88,
     "metadata": {},
     "output_type": "execute_result"
    }
   ],
   "source": [
    "slice[-7:-3]"
   ]
  },
  {
   "cell_type": "code",
   "execution_count": 90,
   "id": "e0b29449-9976-47a0-8c5a-2f67df9b8ea1",
   "metadata": {},
   "outputs": [],
   "source": [
    "# List Is Mutable\n",
    "# Lists can be modified after their creation. You can add, remove, or change elements within the list."
   ]
  },
  {
   "cell_type": "code",
   "execution_count": 104,
   "id": "6fd1dcaa-bedb-4108-9a43-784d1d8afba5",
   "metadata": {},
   "outputs": [
    {
     "data": {
      "text/plain": [
       "[10,\n",
       " 20,\n",
       " 30,\n",
       " 40,\n",
       " 50,\n",
       " 'Dnyaneshwar',\n",
       " 60,\n",
       " 70,\n",
       " 80,\n",
       " 90,\n",
       " 'Dnyaneshwar',\n",
       " 'Dnyaneshwar',\n",
       " 'Dnyaneshwar',\n",
       " 'Dnyaneshwar',\n",
       " 'Dnyaneshwar']"
      ]
     },
     "execution_count": 104,
     "metadata": {},
     "output_type": "execute_result"
    }
   ],
   "source": [
    "# Adds an item to the end of the list       Append used to add item in last\n",
    "slice.append(\"Dnyaneshwar\")\n",
    "slice\n"
   ]
  },
  {
   "cell_type": "code",
   "execution_count": 96,
   "id": "18f0487f-bd5b-40bf-b371-5f3730692ee0",
   "metadata": {},
   "outputs": [
    {
     "data": {
      "text/plain": [
       "[10, 20, 30, 40, 50, 'Dnyaneshwar', 60, 70, 80, 90, 'Dnyaneshwar']"
      ]
     },
     "execution_count": 96,
     "metadata": {},
     "output_type": "execute_result"
    }
   ],
   "source": [
    "# Add an items with help of indexing  insert used for add item anywhere using index\n",
    "slice.insert(5,\"Dnyaneshwar\")\n",
    "slice"
   ]
  },
  {
   "cell_type": "code",
   "execution_count": 108,
   "id": "5245ee16-b83b-4c44-b0ae-11f2355754c4",
   "metadata": {},
   "outputs": [
    {
     "data": {
      "text/plain": [
       "[1, 2, 3, 4, 5]"
      ]
     },
     "execution_count": 108,
     "metadata": {},
     "output_type": "execute_result"
    }
   ],
   "source": [
    "slice_a = [1,2,3,4,5]\n",
    "slice_a"
   ]
  },
  {
   "cell_type": "code",
   "execution_count": 118,
   "id": "727d4858-afad-4c1f-80ae-734604c85b23",
   "metadata": {},
   "outputs": [
    {
     "data": {
      "text/plain": [
       "[1, 2, 3, 4, 5, ['A', 'B'], ['A', 'B']]"
      ]
     },
     "execution_count": 118,
     "metadata": {},
     "output_type": "execute_result"
    }
   ],
   "source": [
    "slice_a.append([\"A\",\"B\"])  #--- with square bracket [] you can append multiple values in list\n",
    "slice_a"
   ]
  },
  {
   "cell_type": "code",
   "execution_count": 120,
   "id": "f07f0fd1-ead4-437f-a857-3aa346bdc056",
   "metadata": {},
   "outputs": [
    {
     "data": {
      "text/plain": [
       "[1, 2, ['A', 'B'], 3, 4, 5, ['A', 'B'], ['A', 'B']]"
      ]
     },
     "execution_count": 120,
     "metadata": {},
     "output_type": "execute_result"
    }
   ],
   "source": [
    "slice_a.insert(2,[\"A\",\"B\"])  #--- with square bracket [] you can insert multiple values in list\n",
    "slice_a"
   ]
  },
  {
   "cell_type": "code",
   "execution_count": 204,
   "id": "a8ee066c-59e3-4b01-9d06-28a911a38894",
   "metadata": {},
   "outputs": [
    {
     "data": {
      "text/plain": [
       "[100, 200, 300]"
      ]
     },
     "execution_count": 204,
     "metadata": {},
     "output_type": "execute_result"
    }
   ],
   "source": [
    "slice_Z =[100,200,300]\n",
    "slice_Z"
   ]
  },
  {
   "cell_type": "code",
   "execution_count": 196,
   "id": "fc4a6d46-ee6f-453c-9d65-7f5fce9b7a9c",
   "metadata": {},
   "outputs": [],
   "source": [
    "slice_a.insert(1,[slice_Z])"
   ]
  },
  {
   "cell_type": "code",
   "execution_count": 144,
   "id": "19a43eac-7fba-4127-a7a7-f892cf89138a",
   "metadata": {},
   "outputs": [
    {
     "data": {
      "text/plain": [
       "[1, [[100, 200, 300]], 2, ['A', 'B'], 3, 4, 5, ['A', 'B'], ['A', 'B']]"
      ]
     },
     "execution_count": 144,
     "metadata": {},
     "output_type": "execute_result"
    }
   ],
   "source": [
    "slice_a"
   ]
  },
  {
   "cell_type": "code",
   "execution_count": 206,
   "id": "fa8023da-945f-48ae-9054-5b31540f2472",
   "metadata": {},
   "outputs": [],
   "source": [
    "slice_a.append([slice_Z])"
   ]
  },
  {
   "cell_type": "code",
   "execution_count": 208,
   "id": "6ff16408-209f-4828-8958-9a065223f08f",
   "metadata": {},
   "outputs": [
    {
     "data": {
      "text/plain": [
       "[1, 2, ['A', 'B'], 3, 4, 5, ['A', 'B'], ['A', 'B'], [[100, 200, 300]]]"
      ]
     },
     "execution_count": 208,
     "metadata": {},
     "output_type": "execute_result"
    }
   ],
   "source": [
    "slice_a"
   ]
  },
  {
   "cell_type": "code",
   "execution_count": 210,
   "id": "7071d232-1dd3-470f-a67c-253a1477f125",
   "metadata": {},
   "outputs": [],
   "source": [
    "# Remove item from list\n",
    "slice_a.remove([slice_Z])"
   ]
  },
  {
   "cell_type": "code",
   "execution_count": 212,
   "id": "386c4569-9d51-4466-b9ed-99c7d6e656ad",
   "metadata": {},
   "outputs": [
    {
     "data": {
      "text/plain": [
       "[1, 2, ['A', 'B'], 3, 4, 5, ['A', 'B'], ['A', 'B']]"
      ]
     },
     "execution_count": 212,
     "metadata": {},
     "output_type": "execute_result"
    }
   ],
   "source": [
    "slice_a"
   ]
  },
  {
   "cell_type": "code",
   "execution_count": 216,
   "id": "c44be7df-8536-48a1-ab6d-5b76b856a1ff",
   "metadata": {},
   "outputs": [
    {
     "data": {
      "text/plain": [
       "['A', 'B']"
      ]
     },
     "execution_count": 216,
     "metadata": {},
     "output_type": "execute_result"
    }
   ],
   "source": [
    "# --- we use pop() for show last item of list also it remove that last item\n",
    "\n",
    "slice_a.pop()"
   ]
  },
  {
   "cell_type": "code",
   "execution_count": 222,
   "id": "7c63faee-e880-4aed-902d-0183f41b5465",
   "metadata": {},
   "outputs": [
    {
     "data": {
      "text/plain": [
       "[1, 2, ['A', 'B'], 3, 4, 5]"
      ]
     },
     "execution_count": 222,
     "metadata": {},
     "output_type": "execute_result"
    }
   ],
   "source": [
    "slice_a"
   ]
  },
  {
   "cell_type": "code",
   "execution_count": 232,
   "id": "3ee1b659-84a2-468d-83ee-696b988dbd64",
   "metadata": {},
   "outputs": [],
   "source": [
    "# remove all Item from list \n",
    "slice_a.clear()"
   ]
  },
  {
   "cell_type": "code",
   "execution_count": 234,
   "id": "7f1360f2-14ad-4b26-89ac-c29c32e8f2a2",
   "metadata": {},
   "outputs": [
    {
     "data": {
      "text/plain": [
       "[]"
      ]
     },
     "execution_count": 234,
     "metadata": {},
     "output_type": "execute_result"
    }
   ],
   "source": [
    "slice_a"
   ]
  },
  {
   "cell_type": "code",
   "execution_count": 294,
   "id": "df1890b6-2eb2-41a0-8888-3cb59294d52d",
   "metadata": {},
   "outputs": [
    {
     "data": {
      "text/plain": [
       "9"
      ]
     },
     "execution_count": 294,
     "metadata": {},
     "output_type": "execute_result"
    }
   ],
   "source": [
    "# len(list): Returns count the number of items in a list. \n",
    "slice_M = [1,2,3,4,5,6,7,8,9]\n",
    "len(slice_M)"
   ]
  },
  {
   "cell_type": "code",
   "execution_count": 296,
   "id": "82962b93-3f97-4973-bac1-2bcdba868ef3",
   "metadata": {},
   "outputs": [
    {
     "name": "stdout",
     "output_type": "stream",
     "text": [
      "[1, 2, 3, 4, 5, 6, 7, 8, 9]\n"
     ]
    }
   ],
   "source": [
    "# sort(): Sorts the list in place.   assending\n",
    "slice_M.sort()\n",
    "print(slice_M)"
   ]
  },
  {
   "cell_type": "code",
   "execution_count": 336,
   "id": "f4c23800-85c0-4307-a8bf-aaa3425998cf",
   "metadata": {},
   "outputs": [
    {
     "name": "stdout",
     "output_type": "stream",
     "text": [
      "[1, 2, 3, 4, 5, 6, 7, 8, 9]\n"
     ]
    }
   ],
   "source": [
    "#    descending sort  # reverse(): Reverses the order of the list permanantly\n",
    "slice_M.reverse()\n",
    "print(slice_M)"
   ]
  },
  {
   "cell_type": "code",
   "execution_count": 338,
   "id": "c231a9e3-1511-41c0-8da1-129c22568406",
   "metadata": {},
   "outputs": [
    {
     "name": "stdout",
     "output_type": "stream",
     "text": [
      "[9, 8, 7, 6, 5, 4, 3, 2, 1]\n"
     ]
    }
   ],
   "source": [
    "#    descending sort \n",
    "slice_M.sort(reverse=True)\n",
    "print(slice_M)"
   ]
  },
  {
   "cell_type": "code",
   "execution_count": 340,
   "id": "232213ae-03db-4ad5-953f-d117e82e0e04",
   "metadata": {},
   "outputs": [
    {
     "data": {
      "text/plain": [
       "1"
      ]
     },
     "execution_count": 340,
     "metadata": {},
     "output_type": "execute_result"
    }
   ],
   "source": [
    "# count(item): count perticular item in that list\n",
    "slice_M.count(5)"
   ]
  },
  {
   "cell_type": "code",
   "execution_count": 332,
   "id": "4f225ad7-2460-4ecf-b3ab-2d4c886ddf67",
   "metadata": {},
   "outputs": [
    {
     "data": {
      "text/plain": [
       "4"
      ]
     },
     "execution_count": 332,
     "metadata": {},
     "output_type": "execute_result"
    }
   ],
   "source": [
    "# index(item): Returns the index of perticular item of list\n",
    "slice_M.index(5)"
   ]
  },
  {
   "cell_type": "code",
   "execution_count": 342,
   "id": "55f8305c-0942-446c-9a09-7d6d0a368ccb",
   "metadata": {},
   "outputs": [
    {
     "data": {
      "text/plain": [
       "[9, 8, 7, 6, 5, 4, 3, 2, 1]"
      ]
     },
     "execution_count": 342,
     "metadata": {},
     "output_type": "execute_result"
    }
   ],
   "source": [
    "slice_M"
   ]
  },
  {
   "cell_type": "code",
   "execution_count": null,
   "id": "da81aade-fe57-4637-81a1-b36248e198f4",
   "metadata": {},
   "outputs": [],
   "source": []
  }
 ],
 "metadata": {
  "kernelspec": {
   "display_name": "Python 3 (ipykernel)",
   "language": "python",
   "name": "python3"
  },
  "language_info": {
   "codemirror_mode": {
    "name": "ipython",
    "version": 3
   },
   "file_extension": ".py",
   "mimetype": "text/x-python",
   "name": "python",
   "nbconvert_exporter": "python",
   "pygments_lexer": "ipython3",
   "version": "3.12.4"
  }
 },
 "nbformat": 4,
 "nbformat_minor": 5
}
