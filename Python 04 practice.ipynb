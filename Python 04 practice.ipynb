{
 "cells": [
  {
   "cell_type": "code",
   "execution_count": 2,
   "id": "12aa8442-060e-44c1-adff-11267dc9cd4b",
   "metadata": {},
   "outputs": [],
   "source": [
    "#---------------------lets Practice ----------------------------------------------"
   ]
  },
  {
   "cell_type": "code",
   "execution_count": 4,
   "id": "b5b8f078-256a-48ed-b3d4-11c909bf94db",
   "metadata": {},
   "outputs": [],
   "source": [
    "# create list\n",
    "list = [1,2,3,4,5,6,7]"
   ]
  },
  {
   "cell_type": "code",
   "execution_count": 6,
   "id": "d66ea775-e912-4c82-9999-ae05708f5627",
   "metadata": {},
   "outputs": [
    {
     "data": {
      "text/plain": [
       "[1, 2, 3, 4, 5, 6, 7]"
      ]
     },
     "execution_count": 6,
     "metadata": {},
     "output_type": "execute_result"
    }
   ],
   "source": [
    "list"
   ]
  },
  {
   "cell_type": "code",
   "execution_count": 8,
   "id": "e1fc2d0a-9eb7-40d5-a243-bc09654d261f",
   "metadata": {},
   "outputs": [
    {
     "data": {
      "text/plain": [
       "list"
      ]
     },
     "execution_count": 8,
     "metadata": {},
     "output_type": "execute_result"
    }
   ],
   "source": [
    "type(list)"
   ]
  },
  {
   "cell_type": "code",
   "execution_count": 10,
   "id": "39aa5cf6-cd8c-46b8-9c16-403e3b44b2ce",
   "metadata": {},
   "outputs": [
    {
     "data": {
      "text/plain": [
       "7"
      ]
     },
     "execution_count": 10,
     "metadata": {},
     "output_type": "execute_result"
    }
   ],
   "source": [
    "len(list)"
   ]
  },
  {
   "cell_type": "code",
   "execution_count": 12,
   "id": "2906f822-db82-4aed-9936-10e0b474adb0",
   "metadata": {},
   "outputs": [],
   "source": [
    "list.append(\"Banana\")"
   ]
  },
  {
   "cell_type": "code",
   "execution_count": 24,
   "id": "fad4774c-c92f-4c49-ab74-f9b7e3599996",
   "metadata": {},
   "outputs": [
    {
     "data": {
      "text/plain": [
       "[1, 2, 3, 4, 5, 6, 7, 'Banana']"
      ]
     },
     "execution_count": 24,
     "metadata": {},
     "output_type": "execute_result"
    }
   ],
   "source": [
    "list"
   ]
  },
  {
   "cell_type": "code",
   "execution_count": 16,
   "id": "d555e512-7f53-4731-9c59-ae0cfbc135a6",
   "metadata": {},
   "outputs": [
    {
     "ename": "AttributeError",
     "evalue": "'list' object has no attribute 'add'",
     "output_type": "error",
     "traceback": [
      "\u001b[1;31m---------------------------------------------------------------------------\u001b[0m",
      "\u001b[1;31mAttributeError\u001b[0m                            Traceback (most recent call last)",
      "Cell \u001b[1;32mIn[16], line 1\u001b[0m\n\u001b[1;32m----> 1\u001b[0m \u001b[38;5;28mlist\u001b[39m\u001b[38;5;241m.\u001b[39madd(\u001b[38;5;124m\"\u001b[39m\u001b[38;5;124mApple\u001b[39m\u001b[38;5;124m\"\u001b[39m)\n",
      "\u001b[1;31mAttributeError\u001b[0m: 'list' object has no attribute 'add'"
     ]
    }
   ],
   "source": [
    "list.add(\"Apple\")  #---- add only work with set"
   ]
  },
  {
   "cell_type": "code",
   "execution_count": 26,
   "id": "06d3c6c2-8506-44d4-87ca-0f74fb5836f2",
   "metadata": {},
   "outputs": [],
   "source": [
    "list.remove(\"Banana\")"
   ]
  },
  {
   "cell_type": "code",
   "execution_count": 28,
   "id": "2807767a-9097-4383-b6c2-28f297fd815b",
   "metadata": {},
   "outputs": [
    {
     "data": {
      "text/plain": [
       "[1, 2, 3, 4, 5, 6, 7]"
      ]
     },
     "execution_count": 28,
     "metadata": {},
     "output_type": "execute_result"
    }
   ],
   "source": [
    "list"
   ]
  },
  {
   "cell_type": "code",
   "execution_count": 36,
   "id": "a3425ae1-566a-4ac5-9745-8549a1c11647",
   "metadata": {},
   "outputs": [
    {
     "ename": "AttributeError",
     "evalue": "'int' object has no attribute 'remove'",
     "output_type": "error",
     "traceback": [
      "\u001b[1;31m---------------------------------------------------------------------------\u001b[0m",
      "\u001b[1;31mAttributeError\u001b[0m                            Traceback (most recent call last)",
      "Cell \u001b[1;32mIn[36], line 1\u001b[0m\n\u001b[1;32m----> 1\u001b[0m \u001b[38;5;28mlist\u001b[39m[\u001b[38;5;241m-\u001b[39m\u001b[38;5;241m1\u001b[39m]\u001b[38;5;241m.\u001b[39mremove\n",
      "\u001b[1;31mAttributeError\u001b[0m: 'int' object has no attribute 'remove'"
     ]
    }
   ],
   "source": [
    "list[-1].remove  # remove not working with index"
   ]
  },
  {
   "cell_type": "code",
   "execution_count": 40,
   "id": "3ef4d916-cfe7-42d0-934c-b8309f40df58",
   "metadata": {},
   "outputs": [
    {
     "data": {
      "text/plain": [
       "4"
      ]
     },
     "execution_count": 40,
     "metadata": {},
     "output_type": "execute_result"
    }
   ],
   "source": [
    "list.pop(2)   # it remove and show which value get removed"
   ]
  },
  {
   "cell_type": "code",
   "execution_count": 54,
   "id": "1421d3f0-c0e7-446f-bab2-55343f041457",
   "metadata": {},
   "outputs": [],
   "source": [
    "del list[2]  # it deleted that perticular idex in this 2 "
   ]
  },
  {
   "cell_type": "code",
   "execution_count": 58,
   "id": "4cd1f922-e997-418f-a8ed-5b9f65405667",
   "metadata": {},
   "outputs": [
    {
     "data": {
      "text/plain": [
       "[1, 2, 7]"
      ]
     },
     "execution_count": 58,
     "metadata": {},
     "output_type": "execute_result"
    }
   ],
   "source": [
    "list"
   ]
  },
  {
   "cell_type": "code",
   "execution_count": 99,
   "id": "0b5c3207-6a80-47bd-990d-418c055588cb",
   "metadata": {},
   "outputs": [],
   "source": [
    "list.clear()  # delet/remove all Iteams from list"
   ]
  },
  {
   "cell_type": "code",
   "execution_count": 65,
   "id": "5b85edf1-95d5-4d30-b429-1c9c4f25cb71",
   "metadata": {},
   "outputs": [
    {
     "data": {
      "text/plain": [
       "[]"
      ]
     },
     "execution_count": 65,
     "metadata": {},
     "output_type": "execute_result"
    }
   ],
   "source": [
    "list"
   ]
  },
  {
   "cell_type": "code",
   "execution_count": 103,
   "id": "c69b7e07-4451-4f05-8083-883f1e2180c0",
   "metadata": {},
   "outputs": [],
   "source": [
    "list.extend([1,2,3,4,5,6,7,8,9])   #extend use for add multiple item togather in list "
   ]
  },
  {
   "cell_type": "code",
   "execution_count": 105,
   "id": "cd52eef4-e7b5-4b8e-b5fb-4c6a819a7b4e",
   "metadata": {},
   "outputs": [
    {
     "data": {
      "text/plain": [
       "[1, 2, 3, 4, 5, 6, 7, 8, 9]"
      ]
     },
     "execution_count": 105,
     "metadata": {},
     "output_type": "execute_result"
    }
   ],
   "source": [
    "list"
   ]
  },
  {
   "cell_type": "code",
   "execution_count": 117,
   "id": "40f4eed5-ae90-4e0b-8b7c-1328b87384a9",
   "metadata": {},
   "outputs": [
    {
     "data": {
      "text/plain": [
       "[1, 2, 3, 4, 5, 6, 7, 8, 9]"
      ]
     },
     "execution_count": 117,
     "metadata": {},
     "output_type": "execute_result"
    }
   ],
   "source": [
    "list.sort()    # it sort list in scending order\n",
    "list"
   ]
  },
  {
   "cell_type": "code",
   "execution_count": 119,
   "id": "b5f64eb8-13fe-4edc-86ba-ab6095ee2f4a",
   "metadata": {},
   "outputs": [
    {
     "data": {
      "text/plain": [
       "[9, 8, 7, 6, 5, 4, 3, 2, 1]"
      ]
     },
     "execution_count": 119,
     "metadata": {},
     "output_type": "execute_result"
    }
   ],
   "source": [
    "list.reverse()  #reverse the order of list if asce then desc if desc then asce\n",
    "list"
   ]
  },
  {
   "cell_type": "code",
   "execution_count": 121,
   "id": "e787919b-b503-47ff-9331-8c76398ca9e5",
   "metadata": {},
   "outputs": [
    {
     "data": {
      "text/plain": [
       "[1, 2, 3, 4, 5, 6, 7, 8, 9]"
      ]
     },
     "execution_count": 121,
     "metadata": {},
     "output_type": "execute_result"
    }
   ],
   "source": [
    "list.reverse()  #reverse the order of list if asce then desc if desc then asce\n",
    "list"
   ]
  },
  {
   "cell_type": "code",
   "execution_count": 139,
   "id": "8322d10e-8edc-4b85-aa34-16f4cc122b70",
   "metadata": {},
   "outputs": [
    {
     "data": {
      "text/plain": [
       "5"
      ]
     },
     "execution_count": 139,
     "metadata": {},
     "output_type": "execute_result"
    }
   ],
   "source": [
    "list.index(6)  #it show index of perticular value"
   ]
  },
  {
   "cell_type": "code",
   "execution_count": 137,
   "id": "c417748e-05a2-4d02-8677-6c237d52a319",
   "metadata": {},
   "outputs": [
    {
     "data": {
      "text/plain": [
       "7"
      ]
     },
     "execution_count": 137,
     "metadata": {},
     "output_type": "execute_result"
    }
   ],
   "source": [
    " list[6]       # this will show value at index 6"
   ]
  },
  {
   "cell_type": "code",
   "execution_count": 141,
   "id": "cab6ffea-e0a2-4d77-b823-0f8aed4220bc",
   "metadata": {},
   "outputs": [
    {
     "data": {
      "text/plain": [
       "9"
      ]
     },
     "execution_count": 141,
     "metadata": {},
     "output_type": "execute_result"
    }
   ],
   "source": [
    "max(list)      #show maximum value of list"
   ]
  },
  {
   "cell_type": "code",
   "execution_count": 143,
   "id": "85715656-d23c-41c1-8754-e71b405009ff",
   "metadata": {},
   "outputs": [
    {
     "data": {
      "text/plain": [
       "1"
      ]
     },
     "execution_count": 143,
     "metadata": {},
     "output_type": "execute_result"
    }
   ],
   "source": [
    "min(list)     #show minimum value of list"
   ]
  },
  {
   "cell_type": "code",
   "execution_count": 153,
   "id": "2b1b2570-7437-4b3c-bd23-0368652bbc53",
   "metadata": {},
   "outputs": [],
   "source": [
    "import numpy as np     # we have imported numpy library"
   ]
  },
  {
   "cell_type": "code",
   "execution_count": 157,
   "id": "828debd0-1e0b-452f-9eb9-ef8dc394a90c",
   "metadata": {},
   "outputs": [
    {
     "data": {
      "text/plain": [
       "5.0"
      ]
     },
     "execution_count": 157,
     "metadata": {},
     "output_type": "execute_result"
    }
   ],
   "source": [
    "np.average(list)       # this average function of numpy get average of list"
   ]
  },
  {
   "cell_type": "code",
   "execution_count": 159,
   "id": "37806a96-b0f7-4715-8859-f9a6ccad42e4",
   "metadata": {},
   "outputs": [
    {
     "data": {
      "text/plain": [
       "True"
      ]
     },
     "execution_count": 159,
     "metadata": {},
     "output_type": "execute_result"
    }
   ],
   "source": [
    "1 in list             # check value present in list and give answer in treue and falls "
   ]
  },
  {
   "cell_type": "code",
   "execution_count": 171,
   "id": "f0d273d9-52a9-4516-a603-65a3b4a2debf",
   "metadata": {},
   "outputs": [
    {
     "data": {
      "text/plain": [
       "True"
      ]
     },
     "execution_count": 171,
     "metadata": {},
     "output_type": "execute_result"
    }
   ],
   "source": [
    "100 not in list        # not in give result true if value not present in list"
   ]
  },
  {
   "cell_type": "code",
   "execution_count": 179,
   "id": "1b663bf6-29f6-422f-b1f3-71c277405d52",
   "metadata": {},
   "outputs": [
    {
     "name": "stdout",
     "output_type": "stream",
     "text": [
      "1\n",
      "2\n",
      "3\n",
      "4\n",
      "5\n",
      "6\n",
      "7\n",
      "8\n",
      "9\n"
     ]
    }
   ],
   "source": [
    "for number in list:\n",
    " print(number)"
   ]
  },
  {
   "cell_type": "code",
   "execution_count": 183,
   "id": "491a28f0-60d1-488f-abf5-b09ebe9fc5d5",
   "metadata": {},
   "outputs": [
    {
     "ename": "AttributeError",
     "evalue": "'list' object has no attribute 'discard'",
     "output_type": "error",
     "traceback": [
      "\u001b[1;31m---------------------------------------------------------------------------\u001b[0m",
      "\u001b[1;31mAttributeError\u001b[0m                            Traceback (most recent call last)",
      "Cell \u001b[1;32mIn[183], line 1\u001b[0m\n\u001b[1;32m----> 1\u001b[0m \u001b[38;5;28mlist\u001b[39m\u001b[38;5;241m.\u001b[39mdiscard(\u001b[38;5;241m2\u001b[39m)\n",
      "\u001b[1;31mAttributeError\u001b[0m: 'list' object has no attribute 'discard'"
     ]
    }
   ],
   "source": [
    "list.discard(2) # discard remove items but work in set not in list"
   ]
  },
  {
   "cell_type": "code",
   "execution_count": 185,
   "id": "aa5a1638-4bba-4ba7-961a-d5b2c0e2d77e",
   "metadata": {},
   "outputs": [],
   "source": [
    "list1= (1,2,3,4,5,6,7)\n",
    "list2 = (\"a\",\"b\",\"c\",\"d\")"
   ]
  },
  {
   "cell_type": "code",
   "execution_count": 187,
   "id": "143caa9f-18af-4bfe-b8cc-f292a8e1815c",
   "metadata": {},
   "outputs": [
    {
     "ename": "AttributeError",
     "evalue": "'tuple' object has no attribute 'union'",
     "output_type": "error",
     "traceback": [
      "\u001b[1;31m---------------------------------------------------------------------------\u001b[0m",
      "\u001b[1;31mAttributeError\u001b[0m                            Traceback (most recent call last)",
      "Cell \u001b[1;32mIn[187], line 1\u001b[0m\n\u001b[1;32m----> 1\u001b[0m list1\u001b[38;5;241m.\u001b[39munion(list2)\n",
      "\u001b[1;31mAttributeError\u001b[0m: 'tuple' object has no attribute 'union'"
     ]
    }
   ],
   "source": [
    "list1.union(list2)   # its work in set but in list"
   ]
  },
  {
   "cell_type": "code",
   "execution_count": 215,
   "id": "5a62d2b1-293c-4057-919f-dcbb443d167b",
   "metadata": {},
   "outputs": [],
   "source": [
    "list1= {1,2,3,4,5,6,7}\n",
    "list2 = {\"a\",\"b\",\"c\",\"d\"}"
   ]
  },
  {
   "cell_type": "code",
   "execution_count": 191,
   "id": "ddea4dd5-165b-480f-9017-cfa0fb294811",
   "metadata": {},
   "outputs": [
    {
     "data": {
      "text/plain": [
       "{1, 2, 3, 4, 5, 6, 7, 'a', 'b', 'c', 'd'}"
      ]
     },
     "execution_count": 191,
     "metadata": {},
     "output_type": "execute_result"
    }
   ],
   "source": [
    "list1.union(list2)"
   ]
  },
  {
   "cell_type": "code",
   "execution_count": 203,
   "id": "bf93a3a2-c2d5-44da-9f6b-43c19b7bd9e9",
   "metadata": {},
   "outputs": [
    {
     "ename": "NameError",
     "evalue": "name 'list' is not defined",
     "output_type": "error",
     "traceback": [
      "\u001b[1;31m---------------------------------------------------------------------------\u001b[0m",
      "\u001b[1;31mNameError\u001b[0m                                 Traceback (most recent call last)",
      "Cell \u001b[1;32mIn[203], line 1\u001b[0m\n\u001b[1;32m----> 1\u001b[0m \u001b[38;5;28;01mdel\u001b[39;00m \u001b[38;5;28mlist\u001b[39m\n",
      "\u001b[1;31mNameError\u001b[0m: name 'list' is not defined"
     ]
    }
   ],
   "source": [
    "del list   # this will delete list permamantly"
   ]
  },
  {
   "cell_type": "code",
   "execution_count": 2,
   "id": "4255b126-1ab3-49fe-9599-c86b73750aa0",
   "metadata": {},
   "outputs": [
    {
     "data": {
      "text/plain": [
       "{1, 4}"
      ]
     },
     "execution_count": 2,
     "metadata": {},
     "output_type": "execute_result"
    }
   ],
   "source": [
    "list4 = {1,4}                    # intersect only work in set\n",
    "list5 =  {1,2,3,4,5,6,7}\n",
    "list4.intersection(list5)\n"
   ]
  },
  {
   "cell_type": "code",
   "execution_count": 135,
   "id": "01dcdbc3-d829-4737-a49e-b7ccac555712",
   "metadata": {},
   "outputs": [],
   "source": [
    "#---------------------- Indexing practice-------------------------------------"
   ]
  },
  {
   "cell_type": "code",
   "execution_count": 18,
   "id": "d7f84448-1935-4cfa-b01d-28940c0ac5ce",
   "metadata": {},
   "outputs": [
    {
     "data": {
      "text/plain": [
       "['a', 'b', 'c', 'd', 'e', 'f', 'g', 'h', 'i', 'j', 'k', 'l', 'm']"
      ]
     },
     "execution_count": 18,
     "metadata": {},
     "output_type": "execute_result"
    }
   ],
   "source": [
    "A = [\"a\",\"b\",\"c\",\"d\",\"e\",\"f\",\"g\",\"h\",\"i\",\"j\",\"k\",\"l\",\"m\"]\n",
    "A"
   ]
  },
  {
   "cell_type": "code",
   "execution_count": 8,
   "id": "70cb10c4-ebff-4df1-89f4-564dc4763e43",
   "metadata": {},
   "outputs": [
    {
     "data": {
      "text/plain": [
       "['b']"
      ]
     },
     "execution_count": 8,
     "metadata": {},
     "output_type": "execute_result"
    }
   ],
   "source": [
    "A[1:2]"
   ]
  },
  {
   "cell_type": "code",
   "execution_count": 10,
   "id": "47f5706d-99e2-4ee9-8aed-5e8b0ed2209a",
   "metadata": {},
   "outputs": [
    {
     "data": {
      "text/plain": [
       "['b', 'e', 'h']"
      ]
     },
     "execution_count": 10,
     "metadata": {},
     "output_type": "execute_result"
    }
   ],
   "source": [
    "A[1:9:3]"
   ]
  },
  {
   "cell_type": "code",
   "execution_count": 12,
   "id": "3afbb59d-7233-4ece-8762-78582132477c",
   "metadata": {},
   "outputs": [
    {
     "data": {
      "text/plain": [
       "['d', 'h']"
      ]
     },
     "execution_count": 12,
     "metadata": {},
     "output_type": "execute_result"
    }
   ],
   "source": [
    "A[3:9:4]"
   ]
  },
  {
   "cell_type": "code",
   "execution_count": 42,
   "id": "fdad5cd5-4ee7-49ab-b0e5-c32f7c084142",
   "metadata": {},
   "outputs": [
    {
     "data": {
      "text/plain": [
       "['h', 'i', 'j', 'k', 'l']"
      ]
     },
     "execution_count": 42,
     "metadata": {},
     "output_type": "execute_result"
    }
   ],
   "source": [
    "A[7:-1]"
   ]
  },
  {
   "cell_type": "code",
   "execution_count": 56,
   "id": "768f2f50-860b-42e3-a0f5-94c844c5502a",
   "metadata": {},
   "outputs": [
    {
     "data": {
      "text/plain": [
       "['m', 'i', 'e']"
      ]
     },
     "execution_count": 56,
     "metadata": {},
     "output_type": "execute_result"
    }
   ],
   "source": [
    "A[-1:-10:-4]"
   ]
  }
 ],
 "metadata": {
  "kernelspec": {
   "display_name": "Python 3 (ipykernel)",
   "language": "python",
   "name": "python3"
  },
  "language_info": {
   "codemirror_mode": {
    "name": "ipython",
    "version": 3
   },
   "file_extension": ".py",
   "mimetype": "text/x-python",
   "name": "python",
   "nbconvert_exporter": "python",
   "pygments_lexer": "ipython3",
   "version": "3.12.4"
  }
 },
 "nbformat": 4,
 "nbformat_minor": 5
}
