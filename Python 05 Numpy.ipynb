{
 "cells": [
  {
   "cell_type": "code",
   "execution_count": 1,
   "id": "3c57dc2e-6068-4da4-96eb-bba2df5be173",
   "metadata": {},
   "outputs": [],
   "source": [
    "#-----------------------NUMPY--------------------------------------"
   ]
  },
  {
   "cell_type": "code",
   "execution_count": 2,
   "id": "2028f738-74d2-42c0-865c-b262a69e2a9b",
   "metadata": {},
   "outputs": [],
   "source": [
    "import numpy as np"
   ]
  },
  {
   "cell_type": "code",
   "execution_count": 3,
   "id": "c6664740-d800-456a-8320-28a32800e896",
   "metadata": {},
   "outputs": [],
   "source": [
    "a = [1,2,3,4,5,6,7,8,9]"
   ]
  },
  {
   "cell_type": "code",
   "execution_count": 4,
   "id": "a36b4586-354b-4148-af57-8dc60415ab4b",
   "metadata": {},
   "outputs": [
    {
     "data": {
      "text/plain": [
       "[1, 2, 3, 4, 5, 6, 7, 8, 9]"
      ]
     },
     "execution_count": 4,
     "metadata": {},
     "output_type": "execute_result"
    }
   ],
   "source": [
    "a"
   ]
  },
  {
   "cell_type": "code",
   "execution_count": 5,
   "id": "68d2784a-dee4-4f39-a49d-8d8206a39348",
   "metadata": {},
   "outputs": [],
   "source": [
    "b= np.arange(1,10,1) #--- arrange function in numpy use to create an array with evenly spaced values. range (start,stop,step)"
   ]
  },
  {
   "cell_type": "code",
   "execution_count": 6,
   "id": "c4cee630-efe0-4011-b97a-066b5b07ed45",
   "metadata": {},
   "outputs": [
    {
     "data": {
      "text/plain": [
       "array([1, 2, 3, 4, 5, 6, 7, 8, 9])"
      ]
     },
     "execution_count": 6,
     "metadata": {},
     "output_type": "execute_result"
    }
   ],
   "source": [
    "b"
   ]
  },
  {
   "cell_type": "code",
   "execution_count": 7,
   "id": "61e26947-1cab-457d-a964-78f082c02e96",
   "metadata": {},
   "outputs": [
    {
     "data": {
      "text/plain": [
       "array([10, 20, 30, 40, 50, 60, 70, 80, 90])"
      ]
     },
     "execution_count": 7,
     "metadata": {},
     "output_type": "execute_result"
    }
   ],
   "source": [
    "c= np.arange(10,100,10)\n",
    "c"
   ]
  },
  {
   "cell_type": "code",
   "execution_count": 8,
   "id": "68428786-1ec3-47cf-bd80-4057f587aa19",
   "metadata": {},
   "outputs": [
    {
     "data": {
      "text/plain": [
       "array([ 10, 110, 210, 310, 410, 510, 610, 710, 810, 910])"
      ]
     },
     "execution_count": 8,
     "metadata": {},
     "output_type": "execute_result"
    }
   ],
   "source": [
    "d =np.arange(10,1000,100)\n",
    "d"
   ]
  },
  {
   "cell_type": "code",
   "execution_count": 9,
   "id": "797f1d16-a9b8-4925-b1d9-820366c9d258",
   "metadata": {},
   "outputs": [
    {
     "ename": "TypeError",
     "evalue": "arange() not supported for inputs with DType <class 'numpy.dtypes.StrDType'>.",
     "output_type": "error",
     "traceback": [
      "\u001b[1;31m---------------------------------------------------------------------------\u001b[0m",
      "\u001b[1;31mTypeError\u001b[0m                                 Traceback (most recent call last)",
      "Cell \u001b[1;32mIn[9], line 1\u001b[0m\n\u001b[1;32m----> 1\u001b[0m e\u001b[38;5;241m=\u001b[39mnp\u001b[38;5;241m.\u001b[39marange(\u001b[38;5;124m\"\u001b[39m\u001b[38;5;124ma\u001b[39m\u001b[38;5;124m\"\u001b[39m,\u001b[38;5;124m\"\u001b[39m\u001b[38;5;124mz\u001b[39m\u001b[38;5;124m\"\u001b[39m)\n",
      "\u001b[1;31mTypeError\u001b[0m: arange() not supported for inputs with DType <class 'numpy.dtypes.StrDType'>."
     ]
    }
   ],
   "source": [
    "e=np.arange(\"a\",\"z\") #------ Only numbers allowed not string"
   ]
  },
  {
   "cell_type": "code",
   "execution_count": 40,
   "id": "4107defc-20ae-4001-8c46-f146de8a1e3f",
   "metadata": {},
   "outputs": [
    {
     "data": {
      "text/plain": [
       "array([0.1, 0.2, 0.3, 0.4, 0.5, 0.6, 0.7, 0.8, 0.9])"
      ]
     },
     "execution_count": 40,
     "metadata": {},
     "output_type": "execute_result"
    }
   ],
   "source": [
    "f = np.arange(0.1,1,0.1) # -----------Decimals/floot allowed.\n",
    "f"
   ]
  },
  {
   "cell_type": "code",
   "execution_count": null,
   "id": "6ec8e921-fdb3-4936-9da0-55af34ba1c36",
   "metadata": {},
   "outputs": [],
   "source": [
    "#-----------------np.zeros-----------------"
   ]
  },
  {
   "cell_type": "code",
   "execution_count": 42,
   "id": "9c8921ec-a58a-4a52-a573-b2413930e3a0",
   "metadata": {},
   "outputs": [
    {
     "data": {
      "text/plain": [
       "array([0., 0., 0., 0., 0.])"
      ]
     },
     "execution_count": 42,
     "metadata": {},
     "output_type": "execute_result"
    }
   ],
   "source": [
    "g = np.zeros(5)  #create an array filled with zeros \n",
    "g"
   ]
  },
  {
   "cell_type": "code",
   "execution_count": 44,
   "id": "8a07320a-ad6d-4c25-a285-d6e8fc7462ca",
   "metadata": {},
   "outputs": [
    {
     "data": {
      "text/plain": [
       "array([[0., 0.],\n",
       "       [0., 0.]])"
      ]
     },
     "execution_count": 44,
     "metadata": {},
     "output_type": "execute_result"
    }
   ],
   "source": [
    "h = np.zeros((2,2))  # creates a 2x3 (2 row , 2column )integer array filled with zeros\n",
    "h"
   ]
  },
  {
   "cell_type": "code",
   "execution_count": 46,
   "id": "e031cbe9-a29b-4fb8-87e1-6c6cf2847d7f",
   "metadata": {},
   "outputs": [
    {
     "data": {
      "text/plain": [
       "array([[[0., 0., 0., 0., 0.],\n",
       "        [0., 0., 0., 0., 0.],\n",
       "        [0., 0., 0., 0., 0.]],\n",
       "\n",
       "       [[0., 0., 0., 0., 0.],\n",
       "        [0., 0., 0., 0., 0.],\n",
       "        [0., 0., 0., 0., 0.]]])"
      ]
     },
     "execution_count": 46,
     "metadata": {},
     "output_type": "execute_result"
    }
   ],
   "source": [
    "i =np.zeros((2,3,5))  # creates a 3D array (2 blocks, 3 rows, 5 columns)\n",
    "i"
   ]
  },
  {
   "cell_type": "code",
   "execution_count": null,
   "id": "28417ebe-897b-45f4-a780-83aff89e8862",
   "metadata": {},
   "outputs": [],
   "source": []
  },
  {
   "cell_type": "code",
   "execution_count": null,
   "id": "96f50254-4400-438f-b815-8c97f1f58f2b",
   "metadata": {},
   "outputs": [],
   "source": [
    "#------------------------Random and Randint--------------------------"
   ]
  },
  {
   "cell_type": "code",
   "execution_count": 48,
   "id": "c6aa379a-515d-4689-9cae-44381bb2a7c0",
   "metadata": {},
   "outputs": [
    {
     "data": {
      "text/plain": [
       "0.6529252497386308"
      ]
     },
     "execution_count": 48,
     "metadata": {},
     "output_type": "execute_result"
    }
   ],
   "source": [
    "np.random.random() # This function generates random floats between 0 and 1 in an array of a specified shape."
   ]
  },
  {
   "cell_type": "code",
   "execution_count": 50,
   "id": "903fb304-59e3-4363-a595-11922642e258",
   "metadata": {},
   "outputs": [
    {
     "data": {
      "text/plain": [
       "array([0.09151734, 0.18787134, 0.83996866, 0.09729959, 0.67778873])"
      ]
     },
     "execution_count": 50,
     "metadata": {},
     "output_type": "execute_result"
    }
   ],
   "source": [
    "np.random.random(5)"
   ]
  },
  {
   "cell_type": "code",
   "execution_count": 52,
   "id": "28836024-2e53-487f-8351-8313082afe76",
   "metadata": {},
   "outputs": [
    {
     "data": {
      "text/plain": [
       "array([0.14016325, 0.04667192, 0.3442368 , 0.4528365 , 0.48174157,\n",
       "       0.15900586, 0.81193545, 0.6395972 , 0.74665583, 0.10733154])"
      ]
     },
     "execution_count": 52,
     "metadata": {},
     "output_type": "execute_result"
    }
   ],
   "source": [
    "np.random.random(10)"
   ]
  },
  {
   "cell_type": "code",
   "execution_count": null,
   "id": "89783488-8eaa-4332-86c0-10d595724452",
   "metadata": {},
   "outputs": [],
   "source": []
  },
  {
   "cell_type": "code",
   "execution_count": 54,
   "id": "189019fc-15a7-4488-ab82-8f76f70666b3",
   "metadata": {},
   "outputs": [
    {
     "data": {
      "text/plain": [
       "array([[0.41714759, 0.82586584, 0.49266681, 0.07210102, 0.18365277,\n",
       "        0.72593976, 0.99637852, 0.34256545, 0.74537285, 0.93734367],\n",
       "       [0.77203686, 0.2402416 , 0.28613026, 0.12565833, 0.46951622,\n",
       "        0.62443977, 0.2243632 , 0.00221581, 0.92342851, 0.64192464]])"
      ]
     },
     "execution_count": 54,
     "metadata": {},
     "output_type": "execute_result"
    }
   ],
   "source": [
    "np.random.random((2,10)) # 2 row,10 column random floats"
   ]
  },
  {
   "cell_type": "code",
   "execution_count": 56,
   "id": "2d3c8826-26ab-49cb-98e2-1638f08231cf",
   "metadata": {},
   "outputs": [
    {
     "data": {
      "text/plain": [
       "array([[0.41322753, 0.24337154, 0.41335077, 0.38108142, 0.74719948],\n",
       "       [0.88095987, 0.40203196, 0.95975822, 0.49501734, 0.29782729],\n",
       "       [0.58418739, 0.21312212, 0.13550652, 0.75532514, 0.76797209],\n",
       "       [0.78653312, 0.75588941, 0.09343008, 0.14088707, 0.63050374],\n",
       "       [0.41765661, 0.38998577, 0.27212499, 0.13512109, 0.68476219]])"
      ]
     },
     "execution_count": 56,
     "metadata": {},
     "output_type": "execute_result"
    }
   ],
   "source": [
    "np.random.random((5,5))"
   ]
  },
  {
   "cell_type": "code",
   "execution_count": null,
   "id": "f8f18e5e-4876-4f6c-a836-37495aedef03",
   "metadata": {},
   "outputs": [],
   "source": []
  },
  {
   "cell_type": "code",
   "execution_count": 58,
   "id": "122853a6-88ba-4078-a5f1-4887ae51d2b6",
   "metadata": {},
   "outputs": [
    {
     "data": {
      "text/plain": [
       "1"
      ]
     },
     "execution_count": 58,
     "metadata": {},
     "output_type": "execute_result"
    }
   ],
   "source": [
    "np.random.randint(1,10) #This function generates random integers between a given low (inclusive) and high (exclusive) range."
   ]
  },
  {
   "cell_type": "code",
   "execution_count": 60,
   "id": "4dc21487-6f3c-4f7d-b22f-2b933a54a4e6",
   "metadata": {},
   "outputs": [
    {
     "data": {
      "text/plain": [
       "10"
      ]
     },
     "execution_count": 60,
     "metadata": {},
     "output_type": "execute_result"
    }
   ],
   "source": [
    "np.random.randint(1,100) # generate random number between 1 to 100"
   ]
  },
  {
   "cell_type": "code",
   "execution_count": 62,
   "id": "b96a6d0e-3e2b-455a-962e-313cc7f7f703",
   "metadata": {
    "scrolled": true
   },
   "outputs": [
    {
     "data": {
      "text/plain": [
       "array([57, 26, 72, 76, 82])"
      ]
     },
     "execution_count": 62,
     "metadata": {},
     "output_type": "execute_result"
    }
   ],
   "source": [
    "np.random.randint(1,100,5) # generate 5  random number between 1 to 100"
   ]
  },
  {
   "cell_type": "code",
   "execution_count": 64,
   "id": "4ce64f9e-7507-48be-a32d-62f8581a9b0a",
   "metadata": {},
   "outputs": [
    {
     "data": {
      "text/plain": [
       "array([4, 1, 4, 9, 1, 6, 5, 2, 8, 3])"
      ]
     },
     "execution_count": 64,
     "metadata": {},
     "output_type": "execute_result"
    }
   ],
   "source": [
    "np.random.randint(1,10,10)"
   ]
  },
  {
   "cell_type": "code",
   "execution_count": null,
   "id": "eb377a82-eacc-4fa1-a19e-74a44ed4e735",
   "metadata": {},
   "outputs": [],
   "source": []
  },
  {
   "cell_type": "code",
   "execution_count": null,
   "id": "a38a7c79-b1d7-4b29-bbc0-c54284a3e61a",
   "metadata": {},
   "outputs": [],
   "source": [
    "#   Generating a 2D array of random integers:"
   ]
  },
  {
   "cell_type": "code",
   "execution_count": 66,
   "id": "06255cb1-51e9-4c5e-86ea-072c700ac9f0",
   "metadata": {
    "scrolled": true
   },
   "outputs": [
    {
     "data": {
      "text/plain": [
       "array([[55, 25, 79, 90, 34],\n",
       "       [34, 33, 72, 82, 87],\n",
       "       [93,  7, 10, 18, 40],\n",
       "       [39, 47,  3, 43, 32],\n",
       "       [74, 30, 63, 79,  6],\n",
       "       [66, 25, 87, 41,  6],\n",
       "       [29, 60, 41, 53, 28],\n",
       "       [69, 87, 68, 68, 21],\n",
       "       [61, 25, 73, 50, 13],\n",
       "       [62, 49, 41, 90, 85]])"
      ]
     },
     "execution_count": 66,
     "metadata": {},
     "output_type": "execute_result"
    }
   ],
   "source": [
    "np.random.randint(1,100,size=(10,5))"
   ]
  },
  {
   "cell_type": "code",
   "execution_count": 68,
   "id": "6e8fcaff-752b-433b-a40c-ee21d2decc23",
   "metadata": {},
   "outputs": [
    {
     "name": "stdout",
     "output_type": "stream",
     "text": [
      "[0.29238642 0.97902752 0.51544903]\n"
     ]
    }
   ],
   "source": [
    "s =print(np.random.rand(3))"
   ]
  },
  {
   "cell_type": "code",
   "execution_count": 70,
   "id": "24cfb6c1-b703-4b9e-b9ec-74cdef78f89e",
   "metadata": {},
   "outputs": [],
   "source": [
    "np.random.seed(s)\n",
    "s"
   ]
  },
  {
   "cell_type": "code",
   "execution_count": 72,
   "id": "4d4d9c56-6f4d-4e1b-b632-333df6e25b48",
   "metadata": {},
   "outputs": [],
   "source": [
    "np.random.seed(42)"
   ]
  },
  {
   "cell_type": "code",
   "execution_count": null,
   "id": "83a39090-db7f-45ef-a2b9-59c2a548d9a5",
   "metadata": {},
   "outputs": [],
   "source": []
  },
  {
   "cell_type": "code",
   "execution_count": null,
   "id": "6992e931-0157-4417-a435-6492f0cca3b0",
   "metadata": {},
   "outputs": [],
   "source": [
    "#---------------------------  Operatores in Numpy -----------------------------"
   ]
  },
  {
   "cell_type": "code",
   "execution_count": 74,
   "id": "6a205f8f-c505-4416-a8fb-3388aa5ab797",
   "metadata": {},
   "outputs": [
    {
     "data": {
      "text/plain": [
       "array([5, 7, 9])"
      ]
     },
     "execution_count": 74,
     "metadata": {},
     "output_type": "execute_result"
    }
   ],
   "source": [
    "#   1. Arithmetic Operators\n",
    "#      Addition (+)\n",
    "\n",
    "k = np.array([1,2,3])\n",
    "l = np.array([4,5,6])\n",
    "m =k + l\n",
    "m"
   ]
  },
  {
   "cell_type": "code",
   "execution_count": 76,
   "id": "b9806768-0a42-435d-aca6-9655ce9a5384",
   "metadata": {},
   "outputs": [
    {
     "data": {
      "text/plain": [
       "array([-3, -3, -3])"
      ]
     },
     "execution_count": 76,
     "metadata": {},
     "output_type": "execute_result"
    }
   ],
   "source": [
    "#      Subtraction (-)\n",
    "m =k - l\n",
    "m"
   ]
  },
  {
   "cell_type": "code",
   "execution_count": 78,
   "id": "53ae9931-cb95-4de6-b70a-ea676f0b5569",
   "metadata": {},
   "outputs": [
    {
     "data": {
      "text/plain": [
       "array([ 4, 10, 18])"
      ]
     },
     "execution_count": 78,
     "metadata": {},
     "output_type": "execute_result"
    }
   ],
   "source": [
    "#      Multiplication (*)\n",
    "m =k * l\n",
    "m"
   ]
  },
  {
   "cell_type": "code",
   "execution_count": 80,
   "id": "91638b77-ce39-466f-807a-ea960302c8c1",
   "metadata": {},
   "outputs": [
    {
     "data": {
      "text/plain": [
       "array([0.25, 0.4 , 0.5 ])"
      ]
     },
     "execution_count": 80,
     "metadata": {},
     "output_type": "execute_result"
    }
   ],
   "source": [
    "#      Division (/)\n",
    "m =k / l\n",
    "m"
   ]
  },
  {
   "cell_type": "code",
   "execution_count": 82,
   "id": "3263f2bd-1075-4541-9e85-e81cc77997bc",
   "metadata": {},
   "outputs": [
    {
     "data": {
      "text/plain": [
       "array([  1,  32, 729])"
      ]
     },
     "execution_count": 82,
     "metadata": {},
     "output_type": "execute_result"
    }
   ],
   "source": [
    "#     Exponentiation (**)\n",
    "m =k ** l\n",
    "m"
   ]
  },
  {
   "cell_type": "code",
   "execution_count": 84,
   "id": "1b1df203-9a4a-483b-8060-d339642cf286",
   "metadata": {},
   "outputs": [
    {
     "data": {
      "text/plain": [
       "array([0, 0, 0])"
      ]
     },
     "execution_count": 84,
     "metadata": {},
     "output_type": "execute_result"
    }
   ],
   "source": [
    "#     Floor Division (//)\n",
    "m =k // l\n",
    "m"
   ]
  },
  {
   "cell_type": "code",
   "execution_count": null,
   "id": "9bba2649-5460-4cc2-8ca6-a8205c3eec42",
   "metadata": {},
   "outputs": [],
   "source": []
  },
  {
   "cell_type": "code",
   "execution_count": 10,
   "id": "c0c4143c-b439-48ce-836d-f064bb8f1858",
   "metadata": {},
   "outputs": [],
   "source": [
    "import numpy as np\n"
   ]
  },
  {
   "cell_type": "code",
   "execution_count": null,
   "id": "a51ee0a0-39ce-483a-a274-77e503ac52b0",
   "metadata": {},
   "outputs": [],
   "source": []
  },
  {
   "cell_type": "code",
   "execution_count": null,
   "id": "dc134113-268a-41fd-a839-eba2eac2bc80",
   "metadata": {},
   "outputs": [],
   "source": [
    "#-----------------  Comparison Operatores -----------------"
   ]
  },
  {
   "cell_type": "code",
   "execution_count": 88,
   "id": "ee4ef123-b1a7-4110-a26e-9f323c603007",
   "metadata": {},
   "outputs": [
    {
     "data": {
      "text/plain": [
       "False"
      ]
     },
     "execution_count": 88,
     "metadata": {},
     "output_type": "execute_result"
    }
   ],
   "source": [
    "#   Greater Than (>)\n",
    "\n",
    "a = 4>6 \n",
    "a"
   ]
  },
  {
   "cell_type": "code",
   "execution_count": 90,
   "id": "044efacb-2511-4bd8-b451-16baf0593e60",
   "metadata": {},
   "outputs": [
    {
     "data": {
      "text/plain": [
       "True"
      ]
     },
     "execution_count": 90,
     "metadata": {},
     "output_type": "execute_result"
    }
   ],
   "source": [
    "#   Less Than (<)\n",
    "a = 4<6 \n",
    "a"
   ]
  },
  {
   "cell_type": "code",
   "execution_count": 92,
   "id": "a90fdfee-72b5-4467-8051-6ade3fabd35c",
   "metadata": {},
   "outputs": [
    {
     "data": {
      "text/plain": [
       "True"
      ]
     },
     "execution_count": 92,
     "metadata": {},
     "output_type": "execute_result"
    }
   ],
   "source": [
    "#   Greater Than or Equal (>=)\n",
    "a = 4>=4 \n",
    "a"
   ]
  },
  {
   "cell_type": "code",
   "execution_count": 94,
   "id": "78f96c1e-f2d0-4166-91f5-c59fe211e8c8",
   "metadata": {},
   "outputs": [
    {
     "data": {
      "text/plain": [
       "True"
      ]
     },
     "execution_count": 94,
     "metadata": {},
     "output_type": "execute_result"
    }
   ],
   "source": [
    "#    Less Than or Equal (<=)\n",
    "a = 4<=4 \n",
    "a"
   ]
  },
  {
   "cell_type": "code",
   "execution_count": 96,
   "id": "9b7416c0-1739-4c88-936f-3dd754159627",
   "metadata": {},
   "outputs": [
    {
     "data": {
      "text/plain": [
       "True"
      ]
     },
     "execution_count": 96,
     "metadata": {},
     "output_type": "execute_result"
    }
   ],
   "source": [
    "#   Equal (==)\n",
    "a = 4==4 \n",
    "a"
   ]
  },
  {
   "cell_type": "code",
   "execution_count": null,
   "id": "8c3b18f7-0e92-46dc-ba0b-3629c792b025",
   "metadata": {},
   "outputs": [],
   "source": [
    "#   Not Equal (!=)"
   ]
  },
  {
   "cell_type": "code",
   "execution_count": 98,
   "id": "8cd8d26f-e0ad-4b39-bef0-d16b52dcdff5",
   "metadata": {},
   "outputs": [
    {
     "data": {
      "text/plain": [
       "False"
      ]
     },
     "execution_count": 98,
     "metadata": {},
     "output_type": "execute_result"
    }
   ],
   "source": [
    "a = 4!=4 \n",
    "a"
   ]
  },
  {
   "cell_type": "code",
   "execution_count": 100,
   "id": "98c26d93-67e1-4653-bb53-a338faa4bb81",
   "metadata": {},
   "outputs": [
    {
     "data": {
      "text/plain": [
       "array([1, 0, 1])"
      ]
     },
     "execution_count": 100,
     "metadata": {},
     "output_type": "execute_result"
    }
   ],
   "source": [
    "#  --3. Logical Operators   \n",
    "#   AND (&)\n",
    "a = np.array([1,2,3])\n",
    "b = np.array([4,5,6])\n",
    "c =  np.array([7,8,9])\n",
    "a & c"
   ]
  },
  {
   "cell_type": "code",
   "execution_count": 102,
   "id": "ad572d9d-65f6-4c3c-99f4-8ab7fcfed93b",
   "metadata": {},
   "outputs": [
    {
     "data": {
      "text/plain": [
       "array([ 7, 10, 11])"
      ]
     },
     "execution_count": 102,
     "metadata": {},
     "output_type": "execute_result"
    }
   ],
   "source": [
    "#   OR (|)\n",
    "a = np.array([1,2,3])\n",
    "b = np.array([4,5,6])\n",
    "c =  np.array([7,8,9])\n",
    "a | c"
   ]
  },
  {
   "cell_type": "code",
   "execution_count": 104,
   "id": "5ccaf0bb-c259-4dff-8df6-61571dea76c8",
   "metadata": {},
   "outputs": [],
   "source": [
    "#   NOT (~)\n",
    "a = np.array([1,2,3])\n",
    "b = np.array([4,5,6])\n",
    "c =  np.array([7,8,9])\n",
    "e = a =~ c"
   ]
  },
  {
   "cell_type": "code",
   "execution_count": null,
   "id": "ade8e722-df0e-4ea1-9311-92198afec33a",
   "metadata": {},
   "outputs": [],
   "source": [
    "# Note = in np you get only mean not mode and medean\n"
   ]
  },
  {
   "cell_type": "code",
   "execution_count": 12,
   "id": "f49fa328-b51f-48cb-a161-bdf54ff378de",
   "metadata": {},
   "outputs": [
    {
     "data": {
      "text/plain": [
       "0"
      ]
     },
     "execution_count": 12,
     "metadata": {},
     "output_type": "execute_result"
    }
   ],
   "source": [
    "# min \n",
    "a= np.array([np.arange(0,100)])\n",
    "np.min(a)"
   ]
  },
  {
   "cell_type": "code",
   "execution_count": 108,
   "id": "102aad47-dd3d-4760-a902-7ed6aae5f5f7",
   "metadata": {},
   "outputs": [
    {
     "data": {
      "text/plain": [
       "99"
      ]
     },
     "execution_count": 108,
     "metadata": {},
     "output_type": "execute_result"
    }
   ],
   "source": [
    "np.max(a)"
   ]
  },
  {
   "cell_type": "code",
   "execution_count": 112,
   "id": "1dfb7169-6613-42f9-82ee-8e97ad71fe6d",
   "metadata": {},
   "outputs": [
    {
     "data": {
      "text/plain": [
       "49.5"
      ]
     },
     "execution_count": 112,
     "metadata": {},
     "output_type": "execute_result"
    }
   ],
   "source": [
    "np.average(a)"
   ]
  },
  {
   "cell_type": "code",
   "execution_count": 16,
   "id": "f007c0dc-3ef8-4aa3-a6c7-5b83268dfebe",
   "metadata": {},
   "outputs": [
    {
     "data": {
      "text/plain": [
       "array([[ 0,  1,  2,  3,  4,  5,  6,  7,  8,  9],\n",
       "       [10, 11, 12, 13, 14, 15, 16, 17, 18, 19],\n",
       "       [20, 21, 22, 23, 24, 25, 26, 27, 28, 29],\n",
       "       [30, 31, 32, 33, 34, 35, 36, 37, 38, 39],\n",
       "       [40, 41, 42, 43, 44, 45, 46, 47, 48, 49],\n",
       "       [50, 51, 52, 53, 54, 55, 56, 57, 58, 59],\n",
       "       [60, 61, 62, 63, 64, 65, 66, 67, 68, 69],\n",
       "       [70, 71, 72, 73, 74, 75, 76, 77, 78, 79],\n",
       "       [80, 81, 82, 83, 84, 85, 86, 87, 88, 89],\n",
       "       [90, 91, 92, 93, 94, 95, 96, 97, 98, 99]])"
      ]
     },
     "execution_count": 16,
     "metadata": {},
     "output_type": "execute_result"
    }
   ],
   "source": [
    "a.reshape(10,10) "
   ]
  },
  {
   "cell_type": "code",
   "execution_count": 68,
   "id": "45a30a08-f965-4c33-a2e3-8d64241974cd",
   "metadata": {},
   "outputs": [
    {
     "ename": "IndexError",
     "evalue": "index 5 is out of bounds for axis 0 with size 1",
     "output_type": "error",
     "traceback": [
      "\u001b[1;31m---------------------------------------------------------------------------\u001b[0m",
      "\u001b[1;31mIndexError\u001b[0m                                Traceback (most recent call last)",
      "Cell \u001b[1;32mIn[68], line 1\u001b[0m\n\u001b[1;32m----> 1\u001b[0m a[\u001b[38;5;241m5\u001b[39m]\n",
      "\u001b[1;31mIndexError\u001b[0m: index 5 is out of bounds for axis 0 with size 1"
     ]
    }
   ],
   "source": [
    "a[5]"
   ]
  },
  {
   "cell_type": "code",
   "execution_count": null,
   "id": "a4f4c345-876c-4483-941b-cedc3011e2be",
   "metadata": {},
   "outputs": [],
   "source": [
    "#----------------------"
   ]
  },
  {
   "cell_type": "code",
   "execution_count": 48,
   "id": "46d30f15-f95c-4abb-93fb-a0954090da74",
   "metadata": {},
   "outputs": [
    {
     "ename": "IndexError",
     "evalue": "index 5 is out of bounds for axis 0 with size 1",
     "output_type": "error",
     "traceback": [
      "\u001b[1;31m---------------------------------------------------------------------------\u001b[0m",
      "\u001b[1;31mIndexError\u001b[0m                                Traceback (most recent call last)",
      "Cell \u001b[1;32mIn[48], line 3\u001b[0m\n\u001b[0;32m      1\u001b[0m r \u001b[38;5;241m=\u001b[39m \u001b[38;5;241m5\u001b[39m\n\u001b[0;32m      2\u001b[0m c \u001b[38;5;241m=\u001b[39m \u001b[38;5;241m7\u001b[39m\n\u001b[1;32m----> 3\u001b[0m a[r,c]\n",
      "\u001b[1;31mIndexError\u001b[0m: index 5 is out of bounds for axis 0 with size 1"
     ]
    }
   ],
   "source": [
    "r = 5\n",
    "c = 7\n",
    "a[r,c]"
   ]
  },
  {
   "cell_type": "code",
   "execution_count": null,
   "id": "0fe935f7-943f-452d-8b7d-e1d04abc8edc",
   "metadata": {},
   "outputs": [],
   "source": []
  }
 ],
 "metadata": {
  "kernelspec": {
   "display_name": "Python 3 (ipykernel)",
   "language": "python",
   "name": "python3"
  },
  "language_info": {
   "codemirror_mode": {
    "name": "ipython",
    "version": 3
   },
   "file_extension": ".py",
   "mimetype": "text/x-python",
   "name": "python",
   "nbconvert_exporter": "python",
   "pygments_lexer": "ipython3",
   "version": "3.12.4"
  }
 },
 "nbformat": 4,
 "nbformat_minor": 5
}
