{
  "nbformat": 4,
  "nbformat_minor": 0,
  "metadata": {
    "colab": {
      "provenance": []
    },
    "kernelspec": {
      "name": "python3",
      "display_name": "Python 3"
    },
    "language_info": {
      "name": "python"
    }
  },
  "cells": [
    {
      "cell_type": "code",
      "execution_count": null,
      "metadata": {
        "colab": {
          "base_uri": "https://localhost:8080/"
        },
        "id": "wsbC0v9qW79W",
        "outputId": "a6c43e96-0ae0-4fe6-d55b-58530379eb21"
      },
      "outputs": [
        {
          "output_type": "stream",
          "name": "stdout",
          "text": [
            "Series([], dtype: object)\n"
          ]
        }
      ],
      "source": [
        "import pandas as pd\n",
        "\n",
        "s=pd.Series()\n",
        "\n",
        "print(s)"
      ]
    },
    {
      "cell_type": "code",
      "source": [
        "# creating series using list\n",
        "import pandas as pd\n",
        "\n",
        "a=(10,20,30,40,50,60,70,80,90)\n",
        "print(type(a),a)\n",
        "ser=pd.Series(a)\n",
        "\n",
        "print(ser)"
      ],
      "metadata": {
        "colab": {
          "base_uri": "https://localhost:8080/"
        },
        "id": "Fz5O-mKrXqdU",
        "outputId": "14ab1f83-dcf3-497a-faa6-04e610d2a522"
      },
      "execution_count": null,
      "outputs": [
        {
          "output_type": "stream",
          "name": "stdout",
          "text": [
            "<class 'tuple'> (10, 20, 30, 40, 50, 60, 70, 80, 90)\n",
            "0    10\n",
            "1    20\n",
            "2    30\n",
            "3    40\n",
            "4    50\n",
            "5    60\n",
            "6    70\n",
            "7    80\n",
            "8    90\n",
            "dtype: int64\n"
          ]
        }
      ]
    },
    {
      "cell_type": "code",
      "source": [
        "import pandas as pd\n",
        "\n",
        "x = set([10, 20, 30, 40])\n",
        "series = pd.Series(x)\n",
        "\n",
        "print(series)"
      ],
      "metadata": {
        "colab": {
          "base_uri": "https://localhost:8080/",
          "height": 356
        },
        "id": "m23npurzYb6J",
        "outputId": "0ef07e31-918d-48fc-c69a-a94c0656fed3"
      },
      "execution_count": null,
      "outputs": [
        {
          "output_type": "error",
          "ename": "TypeError",
          "evalue": "'set' type is unordered",
          "traceback": [
            "\u001b[0;31m---------------------------------------------------------------------------\u001b[0m",
            "\u001b[0;31mTypeError\u001b[0m                                 Traceback (most recent call last)",
            "\u001b[0;32m/tmp/ipython-input-10-443315890.py\u001b[0m in \u001b[0;36m<cell line: 0>\u001b[0;34m()\u001b[0m\n\u001b[1;32m      2\u001b[0m \u001b[0;34m\u001b[0m\u001b[0m\n\u001b[1;32m      3\u001b[0m \u001b[0mx\u001b[0m \u001b[0;34m=\u001b[0m \u001b[0mset\u001b[0m\u001b[0;34m(\u001b[0m\u001b[0;34m[\u001b[0m\u001b[0;36m10\u001b[0m\u001b[0;34m,\u001b[0m \u001b[0;36m20\u001b[0m\u001b[0;34m,\u001b[0m \u001b[0;36m30\u001b[0m\u001b[0;34m,\u001b[0m \u001b[0;36m40\u001b[0m\u001b[0;34m]\u001b[0m\u001b[0;34m)\u001b[0m\u001b[0;34m\u001b[0m\u001b[0;34m\u001b[0m\u001b[0m\n\u001b[0;32m----> 4\u001b[0;31m \u001b[0mseries\u001b[0m \u001b[0;34m=\u001b[0m \u001b[0mpd\u001b[0m\u001b[0;34m.\u001b[0m\u001b[0mSeries\u001b[0m\u001b[0;34m(\u001b[0m\u001b[0mx\u001b[0m\u001b[0;34m)\u001b[0m\u001b[0;34m\u001b[0m\u001b[0;34m\u001b[0m\u001b[0m\n\u001b[0m\u001b[1;32m      5\u001b[0m \u001b[0;34m\u001b[0m\u001b[0m\n\u001b[1;32m      6\u001b[0m \u001b[0mprint\u001b[0m\u001b[0;34m(\u001b[0m\u001b[0mseries\u001b[0m\u001b[0;34m)\u001b[0m\u001b[0;34m\u001b[0m\u001b[0;34m\u001b[0m\u001b[0m\n",
            "\u001b[0;32m/usr/local/lib/python3.11/dist-packages/pandas/core/series.py\u001b[0m in \u001b[0;36m__init__\u001b[0;34m(self, data, index, dtype, name, copy, fastpath)\u001b[0m\n\u001b[1;32m    582\u001b[0m                 \u001b[0mdata\u001b[0m \u001b[0;34m=\u001b[0m \u001b[0mdata\u001b[0m\u001b[0;34m.\u001b[0m\u001b[0mcopy\u001b[0m\u001b[0;34m(\u001b[0m\u001b[0;34m)\u001b[0m\u001b[0;34m\u001b[0m\u001b[0;34m\u001b[0m\u001b[0m\n\u001b[1;32m    583\u001b[0m         \u001b[0;32melse\u001b[0m\u001b[0;34m:\u001b[0m\u001b[0;34m\u001b[0m\u001b[0;34m\u001b[0m\u001b[0m\n\u001b[0;32m--> 584\u001b[0;31m             \u001b[0mdata\u001b[0m \u001b[0;34m=\u001b[0m \u001b[0msanitize_array\u001b[0m\u001b[0;34m(\u001b[0m\u001b[0mdata\u001b[0m\u001b[0;34m,\u001b[0m \u001b[0mindex\u001b[0m\u001b[0;34m,\u001b[0m \u001b[0mdtype\u001b[0m\u001b[0;34m,\u001b[0m \u001b[0mcopy\u001b[0m\u001b[0;34m)\u001b[0m\u001b[0;34m\u001b[0m\u001b[0;34m\u001b[0m\u001b[0m\n\u001b[0m\u001b[1;32m    585\u001b[0m \u001b[0;34m\u001b[0m\u001b[0m\n\u001b[1;32m    586\u001b[0m             \u001b[0mmanager\u001b[0m \u001b[0;34m=\u001b[0m \u001b[0m_get_option\u001b[0m\u001b[0;34m(\u001b[0m\u001b[0;34m\"mode.data_manager\"\u001b[0m\u001b[0;34m,\u001b[0m \u001b[0msilent\u001b[0m\u001b[0;34m=\u001b[0m\u001b[0;32mTrue\u001b[0m\u001b[0;34m)\u001b[0m\u001b[0;34m\u001b[0m\u001b[0;34m\u001b[0m\u001b[0m\n",
            "\u001b[0;32m/usr/local/lib/python3.11/dist-packages/pandas/core/construction.py\u001b[0m in \u001b[0;36msanitize_array\u001b[0;34m(data, index, dtype, copy, allow_2d)\u001b[0m\n\u001b[1;32m    640\u001b[0m \u001b[0;34m\u001b[0m\u001b[0m\n\u001b[1;32m    641\u001b[0m     \u001b[0;32melse\u001b[0m\u001b[0;34m:\u001b[0m\u001b[0;34m\u001b[0m\u001b[0;34m\u001b[0m\u001b[0m\n\u001b[0;32m--> 642\u001b[0;31m         \u001b[0m_sanitize_non_ordered\u001b[0m\u001b[0;34m(\u001b[0m\u001b[0mdata\u001b[0m\u001b[0;34m)\u001b[0m\u001b[0;34m\u001b[0m\u001b[0;34m\u001b[0m\u001b[0m\n\u001b[0m\u001b[1;32m    643\u001b[0m         \u001b[0;31m# materialize e.g. generators, convert e.g. tuples, abc.ValueView\u001b[0m\u001b[0;34m\u001b[0m\u001b[0;34m\u001b[0m\u001b[0m\n\u001b[1;32m    644\u001b[0m         \u001b[0mdata\u001b[0m \u001b[0;34m=\u001b[0m \u001b[0mlist\u001b[0m\u001b[0;34m(\u001b[0m\u001b[0mdata\u001b[0m\u001b[0;34m)\u001b[0m\u001b[0;34m\u001b[0m\u001b[0;34m\u001b[0m\u001b[0m\n",
            "\u001b[0;32m/usr/local/lib/python3.11/dist-packages/pandas/core/construction.py\u001b[0m in \u001b[0;36m_sanitize_non_ordered\u001b[0;34m(data)\u001b[0m\n\u001b[1;32m    691\u001b[0m     \"\"\"\n\u001b[1;32m    692\u001b[0m     \u001b[0;32mif\u001b[0m \u001b[0misinstance\u001b[0m\u001b[0;34m(\u001b[0m\u001b[0mdata\u001b[0m\u001b[0;34m,\u001b[0m \u001b[0;34m(\u001b[0m\u001b[0mset\u001b[0m\u001b[0;34m,\u001b[0m \u001b[0mfrozenset\u001b[0m\u001b[0;34m)\u001b[0m\u001b[0;34m)\u001b[0m\u001b[0;34m:\u001b[0m\u001b[0;34m\u001b[0m\u001b[0;34m\u001b[0m\u001b[0m\n\u001b[0;32m--> 693\u001b[0;31m         \u001b[0;32mraise\u001b[0m \u001b[0mTypeError\u001b[0m\u001b[0;34m(\u001b[0m\u001b[0;34mf\"'{type(data).__name__}' type is unordered\"\u001b[0m\u001b[0;34m)\u001b[0m\u001b[0;34m\u001b[0m\u001b[0;34m\u001b[0m\u001b[0m\n\u001b[0m\u001b[1;32m    694\u001b[0m \u001b[0;34m\u001b[0m\u001b[0m\n\u001b[1;32m    695\u001b[0m \u001b[0;34m\u001b[0m\u001b[0m\n",
            "\u001b[0;31mTypeError\u001b[0m: 'set' type is unordered"
          ]
        }
      ]
    },
    {
      "cell_type": "code",
      "source": [
        "# series using set  is not possible\n",
        "import pandas as pd\n",
        "\n",
        "data = {10, 20, 30}\n",
        "index = ['a', 'b', 'c']\n",
        "\n",
        "# This will raise a TypeError:\n",
        "pd.Series(data, index=index)"
      ],
      "metadata": {
        "colab": {
          "base_uri": "https://localhost:8080/",
          "height": 321
        },
        "id": "tnR6JHtcaIZy",
        "outputId": "b79811de-9564-46d4-a82f-f47842e123a3"
      },
      "execution_count": null,
      "outputs": [
        {
          "output_type": "error",
          "ename": "TypeError",
          "evalue": "'set' type is unordered",
          "traceback": [
            "\u001b[0;31m---------------------------------------------------------------------------\u001b[0m",
            "\u001b[0;31mTypeError\u001b[0m                                 Traceback (most recent call last)",
            "\u001b[0;32m/tmp/ipython-input-22-2363840982.py\u001b[0m in \u001b[0;36m<cell line: 0>\u001b[0;34m()\u001b[0m\n\u001b[1;32m      5\u001b[0m \u001b[0;34m\u001b[0m\u001b[0m\n\u001b[1;32m      6\u001b[0m \u001b[0;31m# This will raise a TypeError:\u001b[0m\u001b[0;34m\u001b[0m\u001b[0;34m\u001b[0m\u001b[0m\n\u001b[0;32m----> 7\u001b[0;31m \u001b[0mpd\u001b[0m\u001b[0;34m.\u001b[0m\u001b[0mSeries\u001b[0m\u001b[0;34m(\u001b[0m\u001b[0mdata\u001b[0m\u001b[0;34m,\u001b[0m \u001b[0mindex\u001b[0m\u001b[0;34m=\u001b[0m\u001b[0mindex\u001b[0m\u001b[0;34m)\u001b[0m\u001b[0;34m\u001b[0m\u001b[0;34m\u001b[0m\u001b[0m\n\u001b[0m",
            "\u001b[0;32m/usr/local/lib/python3.11/dist-packages/pandas/core/series.py\u001b[0m in \u001b[0;36m__init__\u001b[0;34m(self, data, index, dtype, name, copy, fastpath)\u001b[0m\n\u001b[1;32m    582\u001b[0m                 \u001b[0mdata\u001b[0m \u001b[0;34m=\u001b[0m \u001b[0mdata\u001b[0m\u001b[0;34m.\u001b[0m\u001b[0mcopy\u001b[0m\u001b[0;34m(\u001b[0m\u001b[0;34m)\u001b[0m\u001b[0;34m\u001b[0m\u001b[0;34m\u001b[0m\u001b[0m\n\u001b[1;32m    583\u001b[0m         \u001b[0;32melse\u001b[0m\u001b[0;34m:\u001b[0m\u001b[0;34m\u001b[0m\u001b[0;34m\u001b[0m\u001b[0m\n\u001b[0;32m--> 584\u001b[0;31m             \u001b[0mdata\u001b[0m \u001b[0;34m=\u001b[0m \u001b[0msanitize_array\u001b[0m\u001b[0;34m(\u001b[0m\u001b[0mdata\u001b[0m\u001b[0;34m,\u001b[0m \u001b[0mindex\u001b[0m\u001b[0;34m,\u001b[0m \u001b[0mdtype\u001b[0m\u001b[0;34m,\u001b[0m \u001b[0mcopy\u001b[0m\u001b[0;34m)\u001b[0m\u001b[0;34m\u001b[0m\u001b[0;34m\u001b[0m\u001b[0m\n\u001b[0m\u001b[1;32m    585\u001b[0m \u001b[0;34m\u001b[0m\u001b[0m\n\u001b[1;32m    586\u001b[0m             \u001b[0mmanager\u001b[0m \u001b[0;34m=\u001b[0m \u001b[0m_get_option\u001b[0m\u001b[0;34m(\u001b[0m\u001b[0;34m\"mode.data_manager\"\u001b[0m\u001b[0;34m,\u001b[0m \u001b[0msilent\u001b[0m\u001b[0;34m=\u001b[0m\u001b[0;32mTrue\u001b[0m\u001b[0;34m)\u001b[0m\u001b[0;34m\u001b[0m\u001b[0;34m\u001b[0m\u001b[0m\n",
            "\u001b[0;32m/usr/local/lib/python3.11/dist-packages/pandas/core/construction.py\u001b[0m in \u001b[0;36msanitize_array\u001b[0;34m(data, index, dtype, copy, allow_2d)\u001b[0m\n\u001b[1;32m    640\u001b[0m \u001b[0;34m\u001b[0m\u001b[0m\n\u001b[1;32m    641\u001b[0m     \u001b[0;32melse\u001b[0m\u001b[0;34m:\u001b[0m\u001b[0;34m\u001b[0m\u001b[0;34m\u001b[0m\u001b[0m\n\u001b[0;32m--> 642\u001b[0;31m         \u001b[0m_sanitize_non_ordered\u001b[0m\u001b[0;34m(\u001b[0m\u001b[0mdata\u001b[0m\u001b[0;34m)\u001b[0m\u001b[0;34m\u001b[0m\u001b[0;34m\u001b[0m\u001b[0m\n\u001b[0m\u001b[1;32m    643\u001b[0m         \u001b[0;31m# materialize e.g. generators, convert e.g. tuples, abc.ValueView\u001b[0m\u001b[0;34m\u001b[0m\u001b[0;34m\u001b[0m\u001b[0m\n\u001b[1;32m    644\u001b[0m         \u001b[0mdata\u001b[0m \u001b[0;34m=\u001b[0m \u001b[0mlist\u001b[0m\u001b[0;34m(\u001b[0m\u001b[0mdata\u001b[0m\u001b[0;34m)\u001b[0m\u001b[0;34m\u001b[0m\u001b[0;34m\u001b[0m\u001b[0m\n",
            "\u001b[0;32m/usr/local/lib/python3.11/dist-packages/pandas/core/construction.py\u001b[0m in \u001b[0;36m_sanitize_non_ordered\u001b[0;34m(data)\u001b[0m\n\u001b[1;32m    691\u001b[0m     \"\"\"\n\u001b[1;32m    692\u001b[0m     \u001b[0;32mif\u001b[0m \u001b[0misinstance\u001b[0m\u001b[0;34m(\u001b[0m\u001b[0mdata\u001b[0m\u001b[0;34m,\u001b[0m \u001b[0;34m(\u001b[0m\u001b[0mset\u001b[0m\u001b[0;34m,\u001b[0m \u001b[0mfrozenset\u001b[0m\u001b[0;34m)\u001b[0m\u001b[0;34m)\u001b[0m\u001b[0;34m:\u001b[0m\u001b[0;34m\u001b[0m\u001b[0;34m\u001b[0m\u001b[0m\n\u001b[0;32m--> 693\u001b[0;31m         \u001b[0;32mraise\u001b[0m \u001b[0mTypeError\u001b[0m\u001b[0;34m(\u001b[0m\u001b[0;34mf\"'{type(data).__name__}' type is unordered\"\u001b[0m\u001b[0;34m)\u001b[0m\u001b[0;34m\u001b[0m\u001b[0;34m\u001b[0m\u001b[0m\n\u001b[0m\u001b[1;32m    694\u001b[0m \u001b[0;34m\u001b[0m\u001b[0m\n\u001b[1;32m    695\u001b[0m \u001b[0;34m\u001b[0m\u001b[0m\n",
            "\u001b[0;31mTypeError\u001b[0m: 'set' type is unordered"
          ]
        }
      ]
    },
    {
      "cell_type": "code",
      "source": [
        "import pandas as pd\n",
        "\n",
        "s = [10, 20, 30\n",
        "pd.Series(s, index=['a', 'b', 'c'])"
      ],
      "metadata": {
        "colab": {
          "base_uri": "https://localhost:8080/",
          "height": 178
        },
        "id": "n7Mhs9F3aUO0",
        "outputId": "9c2d895f-27a9-4e81-db76-1c05080898c6"
      },
      "execution_count": null,
      "outputs": [
        {
          "output_type": "execute_result",
          "data": {
            "text/plain": [
              "a    10\n",
              "b    20\n",
              "c    30\n",
              "dtype: int64"
            ],
            "text/html": [
              "<div>\n",
              "<style scoped>\n",
              "    .dataframe tbody tr th:only-of-type {\n",
              "        vertical-align: middle;\n",
              "    }\n",
              "\n",
              "    .dataframe tbody tr th {\n",
              "        vertical-align: top;\n",
              "    }\n",
              "\n",
              "    .dataframe thead th {\n",
              "        text-align: right;\n",
              "    }\n",
              "</style>\n",
              "<table border=\"1\" class=\"dataframe\">\n",
              "  <thead>\n",
              "    <tr style=\"text-align: right;\">\n",
              "      <th></th>\n",
              "      <th>0</th>\n",
              "    </tr>\n",
              "  </thead>\n",
              "  <tbody>\n",
              "    <tr>\n",
              "      <th>a</th>\n",
              "      <td>10</td>\n",
              "    </tr>\n",
              "    <tr>\n",
              "      <th>b</th>\n",
              "      <td>20</td>\n",
              "    </tr>\n",
              "    <tr>\n",
              "      <th>c</th>\n",
              "      <td>30</td>\n",
              "    </tr>\n",
              "  </tbody>\n",
              "</table>\n",
              "</div><br><label><b>dtype:</b> int64</label>"
            ]
          },
          "metadata": {},
          "execution_count": 13
        }
      ]
    },
    {
      "cell_type": "code",
      "source": [
        "# series using tupple is possible\n",
        "import pandas as pd\n",
        "\n",
        "s = (10, 20, 30)\n",
        "z=pd.Series(s)\n",
        "print(z)"
      ],
      "metadata": {
        "colab": {
          "base_uri": "https://localhost:8080/"
        },
        "id": "nXqcf8uPagGF",
        "outputId": "3f19bea5-8e9d-4398-a0a2-aed122faf9fc"
      },
      "execution_count": null,
      "outputs": [
        {
          "output_type": "stream",
          "name": "stdout",
          "text": [
            "0    10\n",
            "1    20\n",
            "2    30\n",
            "dtype: int64\n"
          ]
        }
      ]
    },
    {
      "cell_type": "code",
      "source": [
        "# series using index is possible\n",
        "import pandas as pd\n",
        "\n",
        "a= {1:\"dnyaneshwar\", 2:\"vivek\", 3:\"kishori\",4:\"Madhuri\"}\n",
        "\n",
        "s=pd.Series(a)\n",
        "\n",
        "print(s)\n"
      ],
      "metadata": {
        "colab": {
          "base_uri": "https://localhost:8080/"
        },
        "id": "x1jQZUEZayNh",
        "outputId": "37d0f740-609f-419c-d9d9-75829bae999d"
      },
      "execution_count": null,
      "outputs": [
        {
          "output_type": "stream",
          "name": "stdout",
          "text": [
            "1    dnyaneshwar\n",
            "2          vivek\n",
            "3        kishori\n",
            "4        Madhuri\n",
            "dtype: object\n"
          ]
        }
      ]
    },
    {
      "cell_type": "code",
      "source": [
        "# we can assign name to series using name keyword argument\n",
        "\n",
        "import pandas as pd\n",
        "\n",
        "a=[10,20,30,45,60,70,80,90,100]\n",
        "\n",
        "s = pd.Series(a,name=\"sales\")\n",
        "\n",
        "print(s)"
      ],
      "metadata": {
        "colab": {
          "base_uri": "https://localhost:8080/"
        },
        "id": "iz2U5UVubfdn",
        "outputId": "e80a0a2f-9dd6-4000-bd22-6e6168a49319"
      },
      "execution_count": null,
      "outputs": [
        {
          "output_type": "stream",
          "name": "stdout",
          "text": [
            "0     10\n",
            "1     20\n",
            "2     30\n",
            "3     45\n",
            "4     60\n",
            "5     70\n",
            "6     80\n",
            "7     90\n",
            "8    100\n",
            "Name: sales, dtype: int64\n"
          ]
        }
      ]
    },
    {
      "cell_type": "code",
      "source": [
        "import pandas as pd\n",
        "\n",
        "a=[\"Dnyaneshwar\",\"Vivek\",\"madhuri\",\"kishori\"]\n",
        "\n",
        "name = pd.Series(a,name=\"family members names\")\n",
        "print(name)"
      ],
      "metadata": {
        "colab": {
          "base_uri": "https://localhost:8080/"
        },
        "id": "VKQ4o0FYc6Uc",
        "outputId": "cf60845d-7750-454e-cdc4-e8cd8b25379b"
      },
      "execution_count": null,
      "outputs": [
        {
          "output_type": "stream",
          "name": "stdout",
          "text": [
            "0    Dnyaneshwar\n",
            "1          Vivek\n",
            "2        madhuri\n",
            "3        kishori\n",
            "Name: family members names, dtype: object\n"
          ]
        }
      ]
    },
    {
      "cell_type": "code",
      "source": [
        "# creating customized index in series\n",
        "import pandas as pd\n",
        "\n",
        "id = [102,102,103,104]\n",
        "name=[\"Dnyaneshwar\",\"Vivek\",\"madhuri\",\"kishori\"]\n",
        "age = [30,28,27,26]\n",
        "\n",
        "dataser = pd.Series(name,name=\"person name\",index=id)\n",
        "dataser2= pd.Series(age,name=\"person age\",index=id)\n",
        "print(dataser,dataser2)\n"
      ],
      "metadata": {
        "colab": {
          "base_uri": "https://localhost:8080/"
        },
        "id": "FwnDtb6QdfEu",
        "outputId": "8251ac1d-c6fc-4aec-959a-5c76f5cc2fdb"
      },
      "execution_count": null,
      "outputs": [
        {
          "output_type": "stream",
          "name": "stdout",
          "text": [
            "102    Dnyaneshwar\n",
            "102          Vivek\n",
            "103        madhuri\n",
            "104        kishori\n",
            "Name: person name, dtype: object 102    30\n",
            "102    28\n",
            "103    27\n",
            "104    26\n",
            "Name: person age, dtype: int64\n"
          ]
        }
      ]
    },
    {
      "cell_type": "code",
      "source": [
        "# calling series using index\n",
        "id = [101,102,103,104]\n",
        "name=[\"Dnyaneshwar\",\"Vivek\",\"madhuri\",\"kishori\"]\n",
        "age = [30,28,27,26]\n",
        "\n",
        "dataser = pd.Series(name,name=\"person name\",index=id)\n",
        "dataser2= pd.Series(age,name=\"person age\",index=id)\n",
        "\n",
        "print(dataser[101])"
      ],
      "metadata": {
        "colab": {
          "base_uri": "https://localhost:8080/"
        },
        "id": "qcMkc779eSPP",
        "outputId": "4cdd87bc-ffec-40fa-bbf2-5282a7f9d9ea"
      },
      "execution_count": null,
      "outputs": [
        {
          "output_type": "stream",
          "name": "stdout",
          "text": [
            "Dnyaneshwar\n"
          ]
        }
      ]
    },
    {
      "cell_type": "code",
      "source": [
        "# calling series using slicing\n",
        "\n",
        "import pandas as pd\n",
        "\n",
        "a = range(0,101)\n",
        "\n",
        "s=pd.Series(a)\n",
        "\n",
        "print(s[0:11])\n",
        "\n",
        "\n"
      ],
      "metadata": {
        "colab": {
          "base_uri": "https://localhost:8080/"
        },
        "id": "BHZ6ygY6n7Jr",
        "outputId": "0dc3b71f-22a5-4c57-b05f-5353cf56a35c"
      },
      "execution_count": null,
      "outputs": [
        {
          "output_type": "stream",
          "name": "stdout",
          "text": [
            "0      0\n",
            "1      1\n",
            "2      2\n",
            "3      3\n",
            "4      4\n",
            "5      5\n",
            "6      6\n",
            "7      7\n",
            "8      8\n",
            "9      9\n",
            "10    10\n",
            "dtype: int64\n"
          ]
        }
      ]
    },
    {
      "cell_type": "code",
      "source": [
        "#datatye for mixed data series is object\n",
        "\n",
        "import pandas as pd\n",
        "\n",
        "a=[1,11.1,\"one\",True]\n",
        "\n",
        "s=pd.Series(a)\n",
        "\n",
        "print(s)"
      ],
      "metadata": {
        "colab": {
          "base_uri": "https://localhost:8080/"
        },
        "id": "G3mK9jTfp6BF",
        "outputId": "731c30a6-cd91-427c-d575-d92dbfd11a9a"
      },
      "execution_count": null,
      "outputs": [
        {
          "output_type": "stream",
          "name": "stdout",
          "text": [
            "0       1\n",
            "1    11.1\n",
            "2     one\n",
            "3    True\n",
            "dtype: object\n"
          ]
        }
      ]
    },
    {
      "cell_type": "code",
      "source": [
        "# data tye for nan value include series is float64\n",
        "import pandas as pd\n",
        "\n",
        "a=[1,2,3,None]\n",
        "\n",
        "s=pd.Series(a)\n",
        "\n",
        "print(s)"
      ],
      "metadata": {
        "colab": {
          "base_uri": "https://localhost:8080/"
        },
        "id": "eMCMl894qdN_",
        "outputId": "f8adf35f-61a4-42bd-af77-0a788a0122f0"
      },
      "execution_count": null,
      "outputs": [
        {
          "output_type": "stream",
          "name": "stdout",
          "text": [
            "0    1.0\n",
            "1    2.0\n",
            "2    3.0\n",
            "3    NaN\n",
            "dtype: float64\n"
          ]
        }
      ]
    },
    {
      "cell_type": "markdown",
      "source": [
        "**Attributes in series class**\n",
        "\n",
        "attributes give information about class"
      ],
      "metadata": {
        "id": "G7Ne_cvBgBAs"
      }
    },
    {
      "cell_type": "code",
      "source": [
        "# values - it will display/ gives all values present in series\n",
        "\n",
        "import pandas as pd\n",
        "\n",
        "a=[1,2,3,4,5,6,7,8,9,10,11,12,13,14,15,16,17,18,19,20,21,22,23,24,25,26,27,28,29]\n",
        "\n",
        "s=pd.Series(a)\n",
        "\n",
        "print(s.values)\n",
        "\n",
        "#display result in array\n"
      ],
      "metadata": {
        "colab": {
          "base_uri": "https://localhost:8080/"
        },
        "id": "AyaBhoixgNpC",
        "outputId": "29e41086-286b-4163-f593-22994b42ca6e"
      },
      "execution_count": null,
      "outputs": [
        {
          "output_type": "stream",
          "name": "stdout",
          "text": [
            "[ 1  2  3  4  5  6  7  8  9 10 11 12 13 14 15 16 17 18 19 20 21 22 23 24\n",
            " 25 26 27 28 29]\n"
          ]
        }
      ]
    },
    {
      "cell_type": "code",
      "source": [
        "# index - display /show index\n",
        "\n",
        "import pandas as pd\n",
        "\n",
        "a=[1,2,3,4,5,6,7,8,9,10,11,12,13,14,15,16,17,18,19,20,21,22,23,24,25,26,27,28,29]\n",
        "\n",
        "s=pd.Series(a)\n",
        "\n",
        "print(s.index)\n",
        "\n",
        "# defaul index show in form of range\n",
        "\n",
        "# custom index show in result\n",
        "\n",
        "name=[\"dnyanesh\",\"madhuri\",\"vivek\",\"kishori\"]\n",
        "age =[30,27,28,26]\n",
        "n=pd.Series(age,index=name)\n",
        "print(n)\n",
        "print(n.index)"
      ],
      "metadata": {
        "colab": {
          "base_uri": "https://localhost:8080/"
        },
        "id": "mFe1zAtGg1JE",
        "outputId": "24289c2f-1ba0-407e-b7d6-b840bb13b7a9"
      },
      "execution_count": null,
      "outputs": [
        {
          "output_type": "stream",
          "name": "stdout",
          "text": [
            "RangeIndex(start=0, stop=29, step=1)\n",
            "dnyanesh    30\n",
            "madhuri     27\n",
            "vivek       28\n",
            "kishori     26\n",
            "dtype: int64\n",
            "Index(['dnyanesh', 'madhuri', 'vivek', 'kishori'], dtype='object')\n"
          ]
        }
      ]
    },
    {
      "cell_type": "code",
      "source": [
        "#size - show how many values are in series\n",
        "\n",
        "import pandas as pd\n",
        "\n",
        "a=[1,2,3,4,5,6,7,8,9,10,11,12,13,14,15,16,17,18,19,20,21,22,23,24,25,26,27,28,29]\n",
        "\n",
        "s=pd.Series(a)\n",
        "\n",
        "print(s.size)"
      ],
      "metadata": {
        "colab": {
          "base_uri": "https://localhost:8080/"
        },
        "id": "m1x3gwHZjfeW",
        "outputId": "f70a67f5-4fd3-4374-ad2a-dcea0d680e8d"
      },
      "execution_count": null,
      "outputs": [
        {
          "output_type": "stream",
          "name": "stdout",
          "text": [
            "29\n"
          ]
        }
      ]
    },
    {
      "cell_type": "code",
      "source": [
        "# dtype - show data type of series\n",
        "a=[1,2,3,4,5,6,7,8,9,10,11,12,13,14,15,16,17,18,19,20,21,22,23,24,25,26,27,28,29]\n",
        "\n",
        "s=pd.Series(a)\n",
        "\n",
        "print(s.dtype)\n"
      ],
      "metadata": {
        "colab": {
          "base_uri": "https://localhost:8080/"
        },
        "id": "VunEroHfmJgT",
        "outputId": "dea737a2-2b1b-49a9-8010-80e287ea6849"
      },
      "execution_count": null,
      "outputs": [
        {
          "output_type": "stream",
          "name": "stdout",
          "text": [
            "int64\n"
          ]
        }
      ]
    },
    {
      "cell_type": "markdown",
      "source": [
        "**methods in series Class**"
      ],
      "metadata": {
        "id": "YTOJJdxckgkV"
      }
    },
    {
      "cell_type": "code",
      "source": [
        "# head - show top values default 5 (according to index)\n",
        "\n",
        "import pandas as pd\n",
        "\n",
        "a=[12,54,52465,648974951,48946541,987465461,87465165,874651,98741312,87465132,87645123,784,312,654,9874,321,6541,6541321,6516,65162,654,326,842,1854,21,64,62,651,1,6512]\n",
        "\n",
        "s=pd.Series(a)\n",
        "\n",
        "print(s)\n",
        "print(s.head())"
      ],
      "metadata": {
        "colab": {
          "base_uri": "https://localhost:8080/"
        },
        "id": "vO4tT42ekuHG",
        "outputId": "68a8e3d2-c457-48d9-9fa7-e451a9ffec4f"
      },
      "execution_count": null,
      "outputs": [
        {
          "output_type": "stream",
          "name": "stdout",
          "text": [
            "0            12\n",
            "1            54\n",
            "2         52465\n",
            "3     648974951\n",
            "4      48946541\n",
            "5     987465461\n",
            "6      87465165\n",
            "7        874651\n",
            "8      98741312\n",
            "9      87465132\n",
            "10     87645123\n",
            "11          784\n",
            "12          312\n",
            "13          654\n",
            "14         9874\n",
            "15          321\n",
            "16         6541\n",
            "17      6541321\n",
            "18         6516\n",
            "19        65162\n",
            "20          654\n",
            "21          326\n",
            "22          842\n",
            "23         1854\n",
            "24           21\n",
            "25           64\n",
            "26           62\n",
            "27          651\n",
            "28            1\n",
            "29         6512\n",
            "dtype: int64\n",
            "0           12\n",
            "1           54\n",
            "2        52465\n",
            "3    648974951\n",
            "4     48946541\n",
            "dtype: int64\n"
          ]
        }
      ]
    },
    {
      "cell_type": "code",
      "source": [
        "\n",
        "import pandas as pd\n",
        "\n",
        "a=[12,54,52465,648974951,48946541,987465461,87465165,874651,98741312,87465132,87645123,784,312,654,9874,321,6541,6541321,6516,65162,654,326,842,1854,21,64,62,651,1,6512]\n",
        "\n",
        "s=pd.Series(a)\n",
        "\n",
        "print(s)\n",
        "print(s.tail())"
      ],
      "metadata": {
        "colab": {
          "base_uri": "https://localhost:8080/"
        },
        "id": "NZlULHqxlahi",
        "outputId": "1f8a3865-8a10-4f53-a2cd-656ba3ce834c"
      },
      "execution_count": null,
      "outputs": [
        {
          "output_type": "stream",
          "name": "stdout",
          "text": [
            "0            12\n",
            "1            54\n",
            "2         52465\n",
            "3     648974951\n",
            "4      48946541\n",
            "5     987465461\n",
            "6      87465165\n",
            "7        874651\n",
            "8      98741312\n",
            "9      87465132\n",
            "10     87645123\n",
            "11          784\n",
            "12          312\n",
            "13          654\n",
            "14         9874\n",
            "15          321\n",
            "16         6541\n",
            "17      6541321\n",
            "18         6516\n",
            "19        65162\n",
            "20          654\n",
            "21          326\n",
            "22          842\n",
            "23         1854\n",
            "24           21\n",
            "25           64\n",
            "26           62\n",
            "27          651\n",
            "28            1\n",
            "29         6512\n",
            "dtype: int64\n",
            "25      64\n",
            "26      62\n",
            "27     651\n",
            "28       1\n",
            "29    6512\n",
            "dtype: int64\n"
          ]
        }
      ]
    },
    {
      "cell_type": "code",
      "source": [
        "\n",
        "import pandas as pd\n",
        "\n",
        "a=[12,54,52465,648974951,48946541,987465461,87465165,874651,98741312,87465132,87645123,784,312,654,9874,321,6541,6541321,6516,65162,654,326,842,1854,21,64,62,651,1,6512]\n",
        "\n",
        "s=pd.Series(a)\n",
        "\n",
        "print(s.head(10))\n",
        "print(s.tail(10))"
      ],
      "metadata": {
        "colab": {
          "base_uri": "https://localhost:8080/"
        },
        "id": "CKt9H5jWlgAf",
        "outputId": "a05b76ef-4f48-43e4-e31c-48c0f742d0a2"
      },
      "execution_count": null,
      "outputs": [
        {
          "output_type": "stream",
          "name": "stdout",
          "text": [
            "0           12\n",
            "1           54\n",
            "2        52465\n",
            "3    648974951\n",
            "4     48946541\n",
            "5    987465461\n",
            "6     87465165\n",
            "7       874651\n",
            "8     98741312\n",
            "9     87465132\n",
            "dtype: int64\n",
            "20     654\n",
            "21     326\n",
            "22     842\n",
            "23    1854\n",
            "24      21\n",
            "25      64\n",
            "26      62\n",
            "27     651\n",
            "28       1\n",
            "29    6512\n",
            "dtype: int64\n"
          ]
        }
      ]
    },
    {
      "cell_type": "code",
      "source": [
        "#sum - its sum all values presented in series\n",
        "\n",
        "\n",
        "import pandas as pd\n",
        "\n",
        "a=[12,54,52465,648974951,48946541,987465461,87465165,874651,98741312,87465132,87645123,784,312,654,9874,321,6541,6541321,6516,65162,654,326,842,1854,21,64,62,651,1,6512]\n",
        "\n",
        "s=pd.Series(a)\n",
        "\n",
        "print(s.sum())"
      ],
      "metadata": {
        "colab": {
          "base_uri": "https://localhost:8080/"
        },
        "id": "rNAUt3yMlwuY",
        "outputId": "f21675a5-9bf2-4f64-f350-d6c5c08a6b7a"
      },
      "execution_count": null,
      "outputs": [
        {
          "output_type": "stream",
          "name": "stdout",
          "text": [
            "2054273339\n"
          ]
        }
      ]
    },
    {
      "cell_type": "code",
      "source": [
        "# count - its count all non blank values\n",
        "\n",
        "import pandas as pd\n",
        "\n",
        "a=[1,2,1,4,5,6,3,2,4,5,8,7,9,5,4,5,4,5,4,5,4,5,1,2,12,54,4,1,54,21,51,1,54,1,1231,31,231,21,32,321,1,2,]\n",
        "\n",
        "s=pd.Series(a)\n",
        "b=\n",
        "#print(s)\n",
        "print(s.count())"
      ],
      "metadata": {
        "colab": {
          "base_uri": "https://localhost:8080/"
        },
        "id": "WSGh9QeMiZYu",
        "outputId": "87e63a90-a7c3-4972-9f64-c68ad1e38424"
      },
      "execution_count": 5,
      "outputs": [
        {
          "output_type": "stream",
          "name": "stdout",
          "text": [
            "42\n"
          ]
        }
      ]
    },
    {
      "cell_type": "code",
      "source": [
        "# mean - give ean value or average\n",
        "\n",
        "import pandas as pd\n",
        "\n",
        "a=[1,21,2,1,5,1,13,132,132,132,23,123,132,132,13,121,21,23,1321,23,123,123,123,2,1]\n",
        "\n",
        "s=pd.Series(a)\n",
        "\n",
        "print(s.mean()\n",
        ")"
      ],
      "metadata": {
        "colab": {
          "base_uri": "https://localhost:8080/"
        },
        "id": "ykMT0Y9YkVN7",
        "outputId": "d80bc194-03fb-4612-dbf5-1dfcae1217c0"
      },
      "execution_count": 8,
      "outputs": [
        {
          "output_type": "stream",
          "name": "stdout",
          "text": [
            "109.76\n"
          ]
        }
      ]
    },
    {
      "cell_type": "code",
      "source": [
        "#describe - math related give 8 results\n",
        "import pandas as pd\n",
        "\n",
        "a=[1,21,2,1,5,1,13,132,132,132,23,123,132,132,13,121,21,23,1321,23,123,123,123,2,1]\n",
        "\n",
        "s=pd.Series(a)\n",
        "\n",
        "print(s.describe())"
      ],
      "metadata": {
        "colab": {
          "base_uri": "https://localhost:8080/"
        },
        "id": "Z62tpFEZlCwm",
        "outputId": "622d6a3f-2799-4131-fc7c-089dfcb4ea62"
      },
      "execution_count": 9,
      "outputs": [
        {
          "output_type": "stream",
          "name": "stdout",
          "text": [
            "count      25.000000\n",
            "mean      109.760000\n",
            "std       258.922492\n",
            "min         1.000000\n",
            "25%         5.000000\n",
            "50%        23.000000\n",
            "75%       123.000000\n",
            "max      1321.000000\n",
            "dtype: float64\n"
          ]
        }
      ]
    },
    {
      "cell_type": "code",
      "source": [
        "#uniques- gives list of unique values\n",
        "import pandas as pd\n",
        "\n",
        "a=[1,21,2,1,5,1,13,132,132,132,23,123,132,132,13,121,21,23,1321,23,123,123,123,2,1]\n",
        "\n",
        "s=pd.Series(a)\n",
        "print(s.unique())"
      ],
      "metadata": {
        "colab": {
          "base_uri": "https://localhost:8080/"
        },
        "id": "J7X8c1Sole5X",
        "outputId": "325b5e02-0072-4ac1-8082-26bcc30efb62"
      },
      "execution_count": 10,
      "outputs": [
        {
          "output_type": "stream",
          "name": "stdout",
          "text": [
            "[   1   21    2    5   13  132   23  123  121 1321]\n"
          ]
        }
      ]
    },
    {
      "cell_type": "code",
      "source": [
        "#nuniques- gives nuber of unique values present (distinct count)\n",
        "import pandas as pd\n",
        "\n",
        "a=[1,21,2,1,5,1,13,132,132,132,23,123,132,132,13,121,21,23,1321,23,123,123,123,2,1]\n",
        "\n",
        "s=pd.Series(a)\n",
        "print(s.nunique())"
      ],
      "metadata": {
        "colab": {
          "base_uri": "https://localhost:8080/"
        },
        "id": "Se03UatRlmw8",
        "outputId": "3fc7dbf0-b803-44fe-8817-7defe0a88310"
      },
      "execution_count": 11,
      "outputs": [
        {
          "output_type": "stream",
          "name": "stdout",
          "text": [
            "10\n"
          ]
        }
      ]
    }
  ]
}